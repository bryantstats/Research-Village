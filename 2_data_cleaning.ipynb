{
 "cells": [
  {
   "cell_type": "markdown",
   "metadata": {},
   "source": [
    "# Data Cleaning"
   ]
  },
  {
   "cell_type": "markdown",
   "metadata": {},
   "source": [
    "This notebook clean the data to prepare it for the analysis. The cleaned data is then save to df_clean.csv\n",
    "\n",
    "We will do the follows. \n",
    "\n",
    "1. Remove variables(columns) that has more than 70% of NaN value\n",
    "\n",
    "2.  Handle categorical values with too many categories: pt_state, ecodub92 and diag_adm:  We will find a reasonable way to group these categories into fewer categories. \n",
    "\n",
    "3. Save the data to df_clean.csv\n",
    " "
   ]
  },
  {
   "cell_type": "code",
   "execution_count": 1,
   "metadata": {},
   "outputs": [],
   "source": [
    "import pandas as pd"
   ]
  },
  {
   "cell_type": "code",
   "execution_count": 3,
   "metadata": {},
   "outputs": [
    {
     "name": "stderr",
     "output_type": "stream",
     "text": [
      "D:\\Anaconda3\\lib\\site-packages\\IPython\\core\\interactiveshell.py:3063: DtypeWarning: Columns (5,6,8,9,16,20) have mixed types.Specify dtype option on import or set low_memory=False.\n",
      "  interactivity=interactivity, compiler=compiler, result=result)\n"
     ]
    }
   ],
   "source": [
    "df = pd.read_csv('../df.csv')"
   ]
  },
  {
   "cell_type": "markdown",
   "metadata": {},
   "source": [
    "### 1. Remove variables \n",
    "\n",
    "We remove variables that has more than 70% of missing values. "
   ]
  },
  {
   "cell_type": "code",
   "execution_count": 4,
   "metadata": {},
   "outputs": [],
   "source": [
    "DROP_LIMIT = 0.7\n",
    "for var in df.columns:\n",
    "    if df[var].isna().sum()/df[var].count() > DROP_LIMIT:\n",
    "        df.drop(var, axis=1, inplace=True)"
   ]
  },
  {
   "cell_type": "code",
   "execution_count": 5,
   "metadata": {
    "jupyter": {
     "source_hidden": true
    }
   },
   "outputs": [
    {
     "name": "stdout",
     "output_type": "stream",
     "text": [
      "race\n",
      "er_mode\n",
      "ecodepoa\n"
     ]
    }
   ],
   "source": [
    "orig_col = ['yod','age','sex','b_wt','ethnic','pt_state','race','raceethn','campus','er_mode','admtype', 'payer',\n",
    "      'yoa','pay_ub92','provider','asource','ecodepoa','moa','service','ecodub92','diag_adm','los']\n",
    "\n",
    "for c in orig_col:\n",
    "    if c not in df.columns:\n",
    "        print(c)"
   ]
  },
  {
   "cell_type": "markdown",
   "metadata": {},
   "source": [
    "#### Removed columns:\n",
    "* race\n",
    "* er_mode\n",
    "* ecodepoa"
   ]
  },
  {
   "cell_type": "markdown",
   "metadata": {},
   "source": [
    "### 2. Handle pt_state"
   ]
  },
  {
   "cell_type": "code",
   "execution_count": 6,
   "metadata": {},
   "outputs": [
    {
     "data": {
      "text/plain": [
       "array([nan, \"b'00'\", \"b'RI'\", \"b'CA'\", \"b'01'\", \"b'08'\", \"b'TX'\", \"b'CT'\",\n",
       "       \"b'NH'\", \"b'02'\", \"b'NC'\", \"b'DE'\", \"b'YY'\", \"b'MA'\", \"b'NY'\",\n",
       "       \"b'05'\", \"b'25'\", \"b'26'\", \"b'20'\", \"b'31'\", \"b'FL'\", \"b'11'\",\n",
       "       \"b'06'\", \"b'18'\", \"b'PA'\", \"b'03'\", \"b'16'\", \"b'IL'\", \"b'10'\",\n",
       "       \"b'13'\", \"b'21'\", \"b'07'\", \"b'09'\", \"b'LA'\", \"b'17'\", \"b'12'\",\n",
       "       \"b'NE'\", \"b'ME'\", \"b'04'\", \"b'22'\", \"b'NJ'\", \"b'15'\", \"b'19'\",\n",
       "       \"b'34'\", \"b'14'\", \"b'MI'\", \"b'MD'\", \"b'OR'\", \"b'NV'\", \"b'27'\",\n",
       "       \"b'OH'\", \"b'GA'\", \"b'AK'\", \"b'53'\", \"b'E8'\", \"b'MO'\", \"b'IN'\",\n",
       "       \"b'TN'\", \"b'VT'\", \"b'CO'\", \"b'AZ'\", \"b'VA'\", \"b'WI'\", \"b'KS'\",\n",
       "       \"b'-2'\", \"b'SC'\", \"b'DC'\", \"b'30'\", \"b'V4'\", \"b'MN'\", \"b'UK'\",\n",
       "       \"b'OK'\", \"b'V1'\", \"b'24'\", \"b'44'\", \"b'36'\", \"b'40'\", \"b'33'\",\n",
       "       \"b'61'\", \"b'80'\", \"b'45'\", \"b'73'\", \"b'AL'\", \"b'HI'\", \"b'0-'\",\n",
       "       \"b'XX'\", \"b'KY'\", \"b'E9'\", \"b'78'\", \"b'42'\", \"b'69'\", \"b'V0'\",\n",
       "       \"b'74'\", \"b'23'\", \"b'-3'\", \"b'WV'\", \"b'VI'\", \"b'AR'\", \"b'UT'\",\n",
       "       \"b'28'\", \"b'-4'\", \"b'-1'\", \"b'NM'\", \"b'WA'\", \"b'ID'\", \"b'V5'\",\n",
       "       \"b'FC'\", \"b'55'\", \"b'V6'\", \"b'41'\", \"b'60'\", \"b'29'\", \"b'38'\",\n",
       "       \"b'49'\", \"b'35'\", \"b'32'\", \"b'37'\", \"b'71'\", \"b'47'\", \"b'70'\",\n",
       "       \"b'56'\", \"b'46'\", \"b'59'\", \"b'43'\", \"b'ND'\", \"b'79'\", \"b'72'\",\n",
       "       \"b'UN'\", \"b'57'\", \"b'ON'\", \"b'51'\", \"b'64'\", \"b'39'\", \"b'89'\",\n",
       "       \"b'V8'\", \"b'58'\", \"b'62'\", \"b'90'\", \"b'92'\", \"b'91'\", \"b'MS'\",\n",
       "       \"b'48'\", \"b'V7'\", \"b'68'\", \"b'75'\", \"b'BC'\", \"b'88'\", \"b'-6'\",\n",
       "       \"b'V2'\", \"b'52'\", \"b'PQ'\", \"b'84'\", \"b'E0'\", \"b'50'\", \"b'QC'\",\n",
       "       \"b'AB'\", \"b'99'\", \"b'94'\", \"b'93'\", \"b'65'\", \"b'87'\", \"b'SD'\",\n",
       "       \"b'97'\", \"b'82'\", \"b'96'\", \"b'IA'\", \"b'GU'\", \"b'76'\", \"b'1'\",\n",
       "       \"b'MT'\", \"b'66'\", \"b'WY'\", \"b'__'\", \"b'95'\", \"b'81'\", \"b'E6'\",\n",
       "       \"b'Z2'\", \"b'F4'\", \"b'K2'\", \"b'I2'\", \"b'Z9'\", \"b'Y9'\", \"b'Z7'\",\n",
       "       \"b'E7'\", \"b'Y3'\", \"b'Z6'\", \"b'Z8'\", \"b'J4'\", \"b'I1'\", \"b'T4'\",\n",
       "       \"b'Z0'\", \"b'D6'\", \"b'E1'\", \"b'R4'\", \"b'C5'\", \"b'M5'\", \"b'F1'\",\n",
       "       \"b'F3'\", \"b'K6'\", \"b'K8'\", \"b'G4'\", \"b'Z5'\", \"b'I7'\", \"b'Z3'\",\n",
       "       \"b'I3'\", \"b'R0'\", \"b'I5'\", \"b'X7'\", \"b'F6'\", \"b'N1'\", \"b'W1'\",\n",
       "       \"b'I4'\", \"b'R1'\", \"b'R7'\", \"b'W0'\", \"b'R2'\", \"b'R5'\", \"b'K9'\",\n",
       "       \"b'F2'\", \"b'E2'\", \"b'B0'\", \"b'A4'\", \"b'T7'\", \"b'K3'\", \"b'K5'\",\n",
       "       \"b'S9'\", \"b'D5'\", \"b'T5'\", \"b'X8'\", \"b'T2'\", \"b'C1'\", \"b'M7'\",\n",
       "       \"b'H6'\", \"b'L0'\", \"b'G8'\", \"b'M1'\", \"b'J3'\", \"b'M9'\", \"b'H9'\",\n",
       "       \"b'G2'\", \"b'E4'\", \"b'B1'\", \"b'N4'\", \"b'K7'\", \"b'O7'\", \"b'M8'\",\n",
       "       \"b'L9'\", \"b'M6'\", \"b'L3'\", \"b'S6'\", \"b'X5'\", \"b'G6'\", \"b'S0'\",\n",
       "       \"b'F9'\", \"b'J1'\", \"b'K0'\", \"b'Y8'\", \"b'M0'\", \"b'E5'\", \"b'N2'\",\n",
       "       \"b'N3'\", \"b'M2'\", \"b'R6'\", \"b'I6'\", \"b'W2'\", \"b'O3'\", \"b'M4'\",\n",
       "       \"b'I8'\", \"b'I0'\", \"b'I9'\", \"b'N7'\", \"b'L2'\", \"b'T3'\", \"b'D7'\",\n",
       "       \"b'H3'\", \"b'O4'\", \"b'R9'\", \"b'S7'\", \"b'Y0'\", \"b'D2'\", \"b'F0'\",\n",
       "       \"b'G9'\", \"b'H4'\", \"b'A6'\", \"b'H5'\", \"b'B9'\", \"b'G3'\", \"b'X3'\",\n",
       "       \"b'F7'\", \"b'F8'\", \"b'K4'\", \"b'C8'\", \"b'R3'\", \"b'L7'\", \"b'PR'\",\n",
       "       \"b'S4'\", \"b'X9'\", \"b'L5'\", \"b'T1'\", \"b'C0'\", \"b'D1'\", \"b'Q2'\",\n",
       "       \"b'S5'\", \"b'T8'\", \"b'B3'\", \"b'R8'\", \"b'S8'\", \"b'O1'\", \"b'Y7'\",\n",
       "       \"b'K1'\", \"b'O9'\", \"b'C2'\", \"b'W5'\", \"b'O6'\", \"b'Y6'\", \"b'N6'\",\n",
       "       \"b'Z1'\", \"b'O2'\", \"b'W3'\", \"b'G5'\", \"b'R'\", \"b'F5'\", \"b'H2'\",\n",
       "       \"b'A0'\", \"b'L8'\", \"b'Z4'\", \"b'L4'\"], dtype=object)"
      ]
     },
     "execution_count": 6,
     "metadata": {},
     "output_type": "execute_result"
    }
   ],
   "source": [
    "df['pt_state'].unique()"
   ]
  },
  {
   "cell_type": "code",
   "execution_count": 7,
   "metadata": {},
   "outputs": [],
   "source": [
    "from collections import defaultdict"
   ]
  },
  {
   "cell_type": "code",
   "execution_count": 8,
   "metadata": {},
   "outputs": [],
   "source": [
    "map_dict = defaultdict(lambda: 'Other')\n",
    "map_dict[\"b'RI'\"] = 'RI'\n",
    "map_dict[\"b'CT'\"] = 'CT'\n",
    "map_dict[\"b'MA'\"] = 'MA'"
   ]
  },
  {
   "cell_type": "code",
   "execution_count": 9,
   "metadata": {},
   "outputs": [],
   "source": [
    "df['pt_state'] = df['pt_state'].map(map_dict, na_action='ignore').fillna('Unknown')"
   ]
  },
  {
   "cell_type": "code",
   "execution_count": 10,
   "metadata": {},
   "outputs": [
    {
     "data": {
      "text/plain": [
       "array(['Unknown', 'Other', 'RI', 'CT', 'MA'], dtype=object)"
      ]
     },
     "execution_count": 10,
     "metadata": {},
     "output_type": "execute_result"
    }
   ],
   "source": [
    "df['pt_state'].unique()"
   ]
  },
  {
   "cell_type": "markdown",
   "metadata": {},
   "source": [
    "### 3. Handle ecodub92\n"
   ]
  },
  {
   "cell_type": "code",
   "execution_count": 11,
   "metadata": {},
   "outputs": [],
   "source": [
    "df = df.drop(['ecodub92'], axis=1)"
   ]
  },
  {
   "cell_type": "markdown",
   "metadata": {},
   "source": [
    "### 4. Handle diag_adm"
   ]
  },
  {
   "cell_type": "code",
   "execution_count": 12,
   "metadata": {},
   "outputs": [],
   "source": [
    "# fill NA values with 'Unknown'\n",
    "df['diag_adm'] = df['diag_adm'].fillna('Unknown')\n",
    "\n",
    "# Keep the first three letters of the diagnosis (Categories of dianosis)\n",
    "df['diag_adm'] = [i if i=='Unknown' else i[2:5] for i in df['diag_adm']]\n",
    "\n",
    "# Group diagnosis codes with few values into Others\n",
    "u = df['diag_adm'].value_counts()\n",
    "v = u.index[u.values<5]\n",
    "df['diag_adm'] = ['Others' if i in v else i for i in df['diag_adm']]"
   ]
  },
  {
   "cell_type": "code",
   "execution_count": 39,
   "metadata": {},
   "outputs": [],
   "source": [
    "def f(x):\n",
    "    r = pd.Series()\n",
    "    r['Unique Values'] =  x.unique().__len__()\n",
    "    missing_values = x.isna().sum()\n",
    "    r['Missing'] = missing_values\n",
    "    r['Missing Percentage'] =  missing_values/len(x)\n",
    "    r['Type'] = x.dtype\n",
    "    return(r)"
   ]
  },
  {
   "cell_type": "code",
   "execution_count": 14,
   "metadata": {},
   "outputs": [
    {
     "name": "stderr",
     "output_type": "stream",
     "text": [
      "D:\\Anaconda3\\lib\\site-packages\\ipykernel_launcher.py:2: DeprecationWarning: The default dtype for empty Series will be 'object' instead of 'float64' in a future version. Specify a dtype explicitly to silence this warning.\n",
      "  \n"
     ]
    },
    {
     "data": {
      "text/html": [
       "<div>\n",
       "<style scoped>\n",
       "    .dataframe tbody tr th:only-of-type {\n",
       "        vertical-align: middle;\n",
       "    }\n",
       "\n",
       "    .dataframe tbody tr th {\n",
       "        vertical-align: top;\n",
       "    }\n",
       "\n",
       "    .dataframe thead th {\n",
       "        text-align: right;\n",
       "    }\n",
       "</style>\n",
       "<table border=\"1\" class=\"dataframe\">\n",
       "  <thead>\n",
       "    <tr style=\"text-align: right;\">\n",
       "      <th></th>\n",
       "      <th>Unique Values</th>\n",
       "      <th>Missing</th>\n",
       "      <th>Missing Percentage</th>\n",
       "      <th>Type</th>\n",
       "    </tr>\n",
       "  </thead>\n",
       "  <tbody>\n",
       "    <tr>\n",
       "      <th>yod</th>\n",
       "      <td>16</td>\n",
       "      <td>0</td>\n",
       "      <td>0</td>\n",
       "      <td>float64</td>\n",
       "    </tr>\n",
       "    <tr>\n",
       "      <th>age</th>\n",
       "      <td>120</td>\n",
       "      <td>25</td>\n",
       "      <td>1.13046e-05</td>\n",
       "      <td>float64</td>\n",
       "    </tr>\n",
       "    <tr>\n",
       "      <th>sex</th>\n",
       "      <td>4</td>\n",
       "      <td>3</td>\n",
       "      <td>1.35655e-06</td>\n",
       "      <td>object</td>\n",
       "    </tr>\n",
       "    <tr>\n",
       "      <th>b_wt</th>\n",
       "      <td>4847</td>\n",
       "      <td>590017</td>\n",
       "      <td>0.266796</td>\n",
       "      <td>object</td>\n",
       "    </tr>\n",
       "    <tr>\n",
       "      <th>ethnic</th>\n",
       "      <td>6</td>\n",
       "      <td>285208</td>\n",
       "      <td>0.128966</td>\n",
       "      <td>float64</td>\n",
       "    </tr>\n",
       "    <tr>\n",
       "      <th>pt_state</th>\n",
       "      <td>5</td>\n",
       "      <td>0</td>\n",
       "      <td>0</td>\n",
       "      <td>object</td>\n",
       "    </tr>\n",
       "    <tr>\n",
       "      <th>raceethn</th>\n",
       "      <td>10</td>\n",
       "      <td>146005</td>\n",
       "      <td>0.0660211</td>\n",
       "      <td>object</td>\n",
       "    </tr>\n",
       "    <tr>\n",
       "      <th>campus</th>\n",
       "      <td>34</td>\n",
       "      <td>903208</td>\n",
       "      <td>0.408416</td>\n",
       "      <td>object</td>\n",
       "    </tr>\n",
       "    <tr>\n",
       "      <th>admtype</th>\n",
       "      <td>7</td>\n",
       "      <td>75</td>\n",
       "      <td>3.39138e-05</td>\n",
       "      <td>object</td>\n",
       "    </tr>\n",
       "    <tr>\n",
       "      <th>payer</th>\n",
       "      <td>18</td>\n",
       "      <td>0</td>\n",
       "      <td>0</td>\n",
       "      <td>object</td>\n",
       "    </tr>\n",
       "    <tr>\n",
       "      <th>yoa</th>\n",
       "      <td>20</td>\n",
       "      <td>0</td>\n",
       "      <td>0</td>\n",
       "      <td>float64</td>\n",
       "    </tr>\n",
       "    <tr>\n",
       "      <th>pay_ub92</th>\n",
       "      <td>17</td>\n",
       "      <td>273447</td>\n",
       "      <td>0.123648</td>\n",
       "      <td>float64</td>\n",
       "    </tr>\n",
       "    <tr>\n",
       "      <th>provider</th>\n",
       "      <td>14</td>\n",
       "      <td>0</td>\n",
       "      <td>0</td>\n",
       "      <td>object</td>\n",
       "    </tr>\n",
       "    <tr>\n",
       "      <th>asource</th>\n",
       "      <td>22</td>\n",
       "      <td>1451</td>\n",
       "      <td>0.000656119</td>\n",
       "      <td>object</td>\n",
       "    </tr>\n",
       "    <tr>\n",
       "      <th>moa</th>\n",
       "      <td>14</td>\n",
       "      <td>143682</td>\n",
       "      <td>0.0649707</td>\n",
       "      <td>float64</td>\n",
       "    </tr>\n",
       "    <tr>\n",
       "      <th>service</th>\n",
       "      <td>18</td>\n",
       "      <td>1190</td>\n",
       "      <td>0.000538099</td>\n",
       "      <td>object</td>\n",
       "    </tr>\n",
       "    <tr>\n",
       "      <th>diag_adm</th>\n",
       "      <td>1784</td>\n",
       "      <td>0</td>\n",
       "      <td>0</td>\n",
       "      <td>object</td>\n",
       "    </tr>\n",
       "    <tr>\n",
       "      <th>los</th>\n",
       "      <td>444</td>\n",
       "      <td>60207</td>\n",
       "      <td>0.0272246</td>\n",
       "      <td>float64</td>\n",
       "    </tr>\n",
       "  </tbody>\n",
       "</table>\n",
       "</div>"
      ],
      "text/plain": [
       "         Unique Values Missing Missing Percentage     Type\n",
       "yod                 16       0                  0  float64\n",
       "age                120      25        1.13046e-05  float64\n",
       "sex                  4       3        1.35655e-06   object\n",
       "b_wt              4847  590017           0.266796   object\n",
       "ethnic               6  285208           0.128966  float64\n",
       "pt_state             5       0                  0   object\n",
       "raceethn            10  146005          0.0660211   object\n",
       "campus              34  903208           0.408416   object\n",
       "admtype              7      75        3.39138e-05   object\n",
       "payer               18       0                  0   object\n",
       "yoa                 20       0                  0  float64\n",
       "pay_ub92            17  273447           0.123648  float64\n",
       "provider            14       0                  0   object\n",
       "asource             22    1451        0.000656119   object\n",
       "moa                 14  143682          0.0649707  float64\n",
       "service             18    1190        0.000538099   object\n",
       "diag_adm          1784       0                  0   object\n",
       "los                444   60207          0.0272246  float64"
      ]
     },
     "execution_count": 14,
     "metadata": {},
     "output_type": "execute_result"
    }
   ],
   "source": [
    "u = df.apply(f, axis=0)\n",
    "u.transpose()"
   ]
  },
  {
   "cell_type": "markdown",
   "metadata": {},
   "source": [
    "### 5. Adding binary los\n",
    "\n",
    "- If los < 14, los_binary = 0\n",
    "- If los >= 14, los_binary = 1"
   ]
  },
  {
   "cell_type": "code",
   "execution_count": 15,
   "metadata": {},
   "outputs": [],
   "source": [
    "df['los_binary'] = [0 if i<14 else 1 for i in df['los']]"
   ]
  },
  {
   "cell_type": "markdown",
   "metadata": {},
   "source": [
    "### 6. Save the data"
   ]
  },
  {
   "cell_type": "code",
   "execution_count": 16,
   "metadata": {},
   "outputs": [],
   "source": [
    "df.to_csv('../df_clean.csv', index=False)"
   ]
  },
  {
   "cell_type": "markdown",
   "metadata": {},
   "source": [
    "<br>\n",
    "\n",
    "### 7. Handle b_wt"
   ]
  },
  {
   "cell_type": "code",
   "execution_count": 8,
   "metadata": {},
   "outputs": [],
   "source": [
    "import pandas as pd\n",
    "import numpy as np\n",
    "import re\n",
    "from collections import defaultdict\n",
    "import matplotlib.pyplot as plt\n",
    "from random import random"
   ]
  },
  {
   "cell_type": "code",
   "execution_count": 2,
   "metadata": {},
   "outputs": [
    {
     "name": "stderr",
     "output_type": "stream",
     "text": [
      "D:\\Anaconda3\\lib\\site-packages\\IPython\\core\\interactiveshell.py:3146: DtypeWarning: Columns (7) have mixed types.Specify dtype option on import or set low_memory=False.\n",
      "  interactivity=interactivity, compiler=compiler, result=result)\n"
     ]
    }
   ],
   "source": [
    "df = pd.read_csv('../df_clean.csv')"
   ]
  },
  {
   "cell_type": "code",
   "execution_count": 3,
   "metadata": {},
   "outputs": [
    {
     "data": {
      "text/plain": [
       "array([nan, \"b'5382'\", \"b'8121'\", ..., \"b'358'\", \"b'8349'\", \"b'433X'\"],\n",
       "      dtype=object)"
      ]
     },
     "execution_count": 3,
     "metadata": {},
     "output_type": "execute_result"
    }
   ],
   "source": [
    "df['b_wt'].unique()"
   ]
  },
  {
   "cell_type": "markdown",
   "metadata": {},
   "source": [
    "#### Things to consider:\n",
    "* Need to handle weird structure\n",
    "* Need to handle x's\n",
    "    * For internal or trailing x's, will assume 5\n",
    "    * For leading x's, finding probability distribution for digits, assuming will be like benford's law"
   ]
  },
  {
   "cell_type": "code",
   "execution_count": 14,
   "metadata": {},
   "outputs": [],
   "source": [
    "def partial_transform(val):\n",
    "    try:\n",
    "        weight = re.findall(\"b'(\\w*)'\", val)\n",
    "    except:\n",
    "        print(val)\n",
    "    if len(weight) > 1:\n",
    "        print(f'{val}, {weight}')\n",
    "    if len(weight) == 0:\n",
    "        return np.nan\n",
    "    return weight[0]"
   ]
  },
  {
   "cell_type": "code",
   "execution_count": 30,
   "metadata": {},
   "outputs": [
    {
     "data": {
      "image/png": "[encoded data removed]",
      "text/plain": [
       "<Figure size 432x288 with 1 Axes>"
      ]
     },
     "metadata": {
      "needs_background": "light"
     },
     "output_type": "display_data"
    }
   ],
   "source": [
    "digit_counts = defaultdict(lambda: 0)\n",
    "for n in partials.dropna():\n",
    "    digit_counts[n[0]] +=1\n",
    "digits = sorted(digit_counts.keys())\n",
    "counts = [digit_counts[i] for i in digits]\n",
    "plt.bar(digits, counts)\n",
    "plt.show()"
   ]
  },
  {
   "cell_type": "code",
   "execution_count": 31,
   "metadata": {},
   "outputs": [],
   "source": [
    "sorted_digits = {}\n",
    "for i in digits:\n",
    "    sorted_digits[i] = digit_counts[i] / sum(digit_counts.values())"
   ]
  },
  {
   "cell_type": "code",
   "execution_count": 32,
   "metadata": {},
   "outputs": [],
   "source": [
    "def transform_b_wt(val):\n",
    "    weight = re.findall(\"b'(\\w*)'\", val)\n",
    "    if len(weight) > 1:\n",
    "        print(f'{val}, {weight}')\n",
    "    if len(weight) == 0:\n",
    "        return np.nan\n",
    "    ret_val = ''\n",
    "    for i in range(len(weight[0])):\n",
    "        try:\n",
    "            int(weight[0][i])\n",
    "            ret_val += weight[0][i]\n",
    "        except:\n",
    "            if i==0:\n",
    "                seed = random()\n",
    "                cdf = 0\n",
    "                j = 0\n",
    "                while cdf < seed:\n",
    "                    cdf +=sorted_digits[str(i)]\n",
    "                    i +=1\n",
    "                ret_val +=str(i-1)\n",
    "            else:\n",
    "                ret_val +='5'\n",
    "    return ret_val"
   ]
  },
  {
   "cell_type": "code",
   "execution_count": 33,
   "metadata": {},
   "outputs": [],
   "source": [
    "test = df['b_wt'].map(transform_b_wt, na_action='ignore')"
   ]
  },
  {
   "cell_type": "code",
   "execution_count": 35,
   "metadata": {},
   "outputs": [
    {
     "data": {
      "text/plain": [
       "array([5382, 8121, 9655, ...,  358, 8349, 4335], dtype=int16)"
      ]
     },
     "execution_count": 35,
     "metadata": {},
     "output_type": "execute_result"
    }
   ],
   "source": [
    "test.dropna().astype('int16').unique()"
   ]
  },
  {
   "cell_type": "code",
   "execution_count": 36,
   "metadata": {},
   "outputs": [],
   "source": [
    "df['b_wt'] = df['b_wt'].map(transform_b_wt, na_action='ignore')"
   ]
  },
  {
   "cell_type": "code",
   "execution_count": 40,
   "metadata": {},
   "outputs": [],
   "source": [
    "def f(x):\n",
    "    r = pd.Series()\n",
    "    r['Unique Values'] =  x.unique().__len__()\n",
    "    missing_values = x.isna().sum()\n",
    "    r['Missing'] = missing_values\n",
    "    r['Missing Percentage'] =  missing_values/len(x)\n",
    "    r['Type'] = x.dtype\n",
    "    return(r)"
   ]
  },
  {
   "cell_type": "code",
   "execution_count": 41,
   "metadata": {},
   "outputs": [
    {
     "name": "stderr",
     "output_type": "stream",
     "text": [
      "D:\\Anaconda3\\lib\\site-packages\\ipykernel_launcher.py:2: DeprecationWarning: The default dtype for empty Series will be 'object' instead of 'float64' in a future version. Specify a dtype explicitly to silence this warning.\n",
      "  \n"
     ]
    },
    {
     "data": {
      "text/html": [
       "<div>\n",
       "<style scoped>\n",
       "    .dataframe tbody tr th:only-of-type {\n",
       "        vertical-align: middle;\n",
       "    }\n",
       "\n",
       "    .dataframe tbody tr th {\n",
       "        vertical-align: top;\n",
       "    }\n",
       "\n",
       "    .dataframe thead th {\n",
       "        text-align: right;\n",
       "    }\n",
       "</style>\n",
       "<table border=\"1\" class=\"dataframe\">\n",
       "  <thead>\n",
       "    <tr style=\"text-align: right;\">\n",
       "      <th></th>\n",
       "      <th>Unique Values</th>\n",
       "      <th>Missing</th>\n",
       "      <th>Missing Percentage</th>\n",
       "      <th>Type</th>\n",
       "    </tr>\n",
       "  </thead>\n",
       "  <tbody>\n",
       "    <tr>\n",
       "      <th>yod</th>\n",
       "      <td>16</td>\n",
       "      <td>0</td>\n",
       "      <td>0</td>\n",
       "      <td>float64</td>\n",
       "    </tr>\n",
       "    <tr>\n",
       "      <th>age</th>\n",
       "      <td>120</td>\n",
       "      <td>25</td>\n",
       "      <td>1.13046e-05</td>\n",
       "      <td>float64</td>\n",
       "    </tr>\n",
       "    <tr>\n",
       "      <th>sex</th>\n",
       "      <td>4</td>\n",
       "      <td>3</td>\n",
       "      <td>1.35655e-06</td>\n",
       "      <td>object</td>\n",
       "    </tr>\n",
       "    <tr>\n",
       "      <th>b_wt</th>\n",
       "      <td>4803</td>\n",
       "      <td>671100</td>\n",
       "      <td>0.303461</td>\n",
       "      <td>object</td>\n",
       "    </tr>\n",
       "    <tr>\n",
       "      <th>ethnic</th>\n",
       "      <td>6</td>\n",
       "      <td>285208</td>\n",
       "      <td>0.128966</td>\n",
       "      <td>float64</td>\n",
       "    </tr>\n",
       "    <tr>\n",
       "      <th>pt_state</th>\n",
       "      <td>5</td>\n",
       "      <td>0</td>\n",
       "      <td>0</td>\n",
       "      <td>object</td>\n",
       "    </tr>\n",
       "    <tr>\n",
       "      <th>raceethn</th>\n",
       "      <td>10</td>\n",
       "      <td>146005</td>\n",
       "      <td>0.0660211</td>\n",
       "      <td>object</td>\n",
       "    </tr>\n",
       "    <tr>\n",
       "      <th>campus</th>\n",
       "      <td>34</td>\n",
       "      <td>903208</td>\n",
       "      <td>0.408416</td>\n",
       "      <td>object</td>\n",
       "    </tr>\n",
       "    <tr>\n",
       "      <th>admtype</th>\n",
       "      <td>7</td>\n",
       "      <td>75</td>\n",
       "      <td>3.39138e-05</td>\n",
       "      <td>object</td>\n",
       "    </tr>\n",
       "    <tr>\n",
       "      <th>payer</th>\n",
       "      <td>18</td>\n",
       "      <td>0</td>\n",
       "      <td>0</td>\n",
       "      <td>object</td>\n",
       "    </tr>\n",
       "    <tr>\n",
       "      <th>yoa</th>\n",
       "      <td>20</td>\n",
       "      <td>0</td>\n",
       "      <td>0</td>\n",
       "      <td>float64</td>\n",
       "    </tr>\n",
       "    <tr>\n",
       "      <th>pay_ub92</th>\n",
       "      <td>17</td>\n",
       "      <td>273447</td>\n",
       "      <td>0.123648</td>\n",
       "      <td>float64</td>\n",
       "    </tr>\n",
       "    <tr>\n",
       "      <th>provider</th>\n",
       "      <td>14</td>\n",
       "      <td>0</td>\n",
       "      <td>0</td>\n",
       "      <td>object</td>\n",
       "    </tr>\n",
       "    <tr>\n",
       "      <th>asource</th>\n",
       "      <td>22</td>\n",
       "      <td>1451</td>\n",
       "      <td>0.000656119</td>\n",
       "      <td>object</td>\n",
       "    </tr>\n",
       "    <tr>\n",
       "      <th>moa</th>\n",
       "      <td>14</td>\n",
       "      <td>143682</td>\n",
       "      <td>0.0649707</td>\n",
       "      <td>float64</td>\n",
       "    </tr>\n",
       "    <tr>\n",
       "      <th>service</th>\n",
       "      <td>18</td>\n",
       "      <td>1190</td>\n",
       "      <td>0.000538099</td>\n",
       "      <td>object</td>\n",
       "    </tr>\n",
       "    <tr>\n",
       "      <th>diag_adm</th>\n",
       "      <td>1784</td>\n",
       "      <td>0</td>\n",
       "      <td>0</td>\n",
       "      <td>object</td>\n",
       "    </tr>\n",
       "    <tr>\n",
       "      <th>los</th>\n",
       "      <td>444</td>\n",
       "      <td>60207</td>\n",
       "      <td>0.0272246</td>\n",
       "      <td>float64</td>\n",
       "    </tr>\n",
       "    <tr>\n",
       "      <th>los_binary</th>\n",
       "      <td>2</td>\n",
       "      <td>0</td>\n",
       "      <td>0</td>\n",
       "      <td>int64</td>\n",
       "    </tr>\n",
       "  </tbody>\n",
       "</table>\n",
       "</div>"
      ],
      "text/plain": [
       "           Unique Values Missing Missing Percentage     Type\n",
       "yod                   16       0                  0  float64\n",
       "age                  120      25        1.13046e-05  float64\n",
       "sex                    4       3        1.35655e-06   object\n",
       "b_wt                4803  671100           0.303461   object\n",
       "ethnic                 6  285208           0.128966  float64\n",
       "pt_state               5       0                  0   object\n",
       "raceethn              10  146005          0.0660211   object\n",
       "campus                34  903208           0.408416   object\n",
       "admtype                7      75        3.39138e-05   object\n",
       "payer                 18       0                  0   object\n",
       "yoa                   20       0                  0  float64\n",
       "pay_ub92              17  273447           0.123648  float64\n",
       "provider              14       0                  0   object\n",
       "asource               22    1451        0.000656119   object\n",
       "moa                   14  143682          0.0649707  float64\n",
       "service               18    1190        0.000538099   object\n",
       "diag_adm            1784       0                  0   object\n",
       "los                  444   60207          0.0272246  float64\n",
       "los_binary             2       0                  0    int64"
      ]
     },
     "execution_count": 41,
     "metadata": {},
     "output_type": "execute_result"
    }
   ],
   "source": [
    "u = df.apply(f, axis=0)\n",
    "u.transpose()"
   ]
  },
  {
   "cell_type": "code",
   "execution_count": 43,
   "metadata": {},
   "outputs": [],
   "source": [
    "df.to_csv('../df_clean_v2_b_wt_fixed.csv', index=False)"
   ]
  }
 ],
 "metadata": {
  "kernelspec": {
   "display_name": "Python 3",
   "language": "python",
   "name": "python3"
  },
  "language_info": {
   "codemirror_mode": {
    "name": "ipython",
    "version": 3
   },
   "file_extension": ".py",
   "mimetype": "text/x-python",
   "name": "python",
   "nbconvert_exporter": "python",
   "pygments_lexer": "ipython3",
   "version": "3.7.9"
  }
 },
 "nbformat": 4,
 "nbformat_minor": 4
}
