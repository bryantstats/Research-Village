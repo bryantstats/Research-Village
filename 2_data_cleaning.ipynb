{
 "cells": [
  {
   "cell_type": "markdown",
   "metadata": {},
   "source": [
    "# Data Cleaning"
   ]
  },
  {
   "cell_type": "markdown",
   "metadata": {},
   "source": [
    "This notebook clean the data to prepare it for the analysis. The cleaned data is then save to df_clean.csv\n",
    "\n",
    "We will do the follows. \n",
    "\n",
    "1. Remove variables(columns) that has more than 70% of NaN value\n",
    "\n",
    "2.  Handle categorical values with too many categories: pt_state, ecodub92 and diag_adm:  We will find a reasonable way to group these categories into fewer categories. \n",
    "\n",
    "3. Save the data to df_clean.csv\n",
    " "
   ]
  },
  {
   "cell_type": "code",
   "execution_count": 2,
   "metadata": {},
   "outputs": [],
   "source": [
    "import pandas as pd\n",
    "import numpy as np\n",
    "\n",
    "from collections import defaultdict"
   ]
  },
  {
   "cell_type": "code",
   "execution_count": 2,
   "metadata": {},
   "outputs": [
    {
     "name": "stderr",
     "output_type": "stream",
     "text": [
      "D:\\Anaconda3\\lib\\site-packages\\IPython\\core\\interactiveshell.py:3063: DtypeWarning: Columns (5,6,8,9,16,20) have mixed types.Specify dtype option on import or set low_memory=False.\n",
      "  interactivity=interactivity, compiler=compiler, result=result)\n"
     ]
    }
   ],
   "source": [
    "df = pd.read_csv('../df.csv')"
   ]
  },
  {
   "cell_type": "markdown",
   "metadata": {},
   "source": [
    "### 1. Remove variables \n",
    "\n",
    "We remove variables that has more than 70% of missing values. "
   ]
  },
  {
   "cell_type": "code",
   "execution_count": 3,
   "metadata": {},
   "outputs": [],
   "source": [
    "DROP_LIMIT = 0.7\n",
    "for var in df.columns:\n",
    "    if df[var].isna().sum()/df[var].count() > DROP_LIMIT:\n",
    "        df.drop(var, axis=1, inplace=True)"
   ]
  },
  {
   "cell_type": "code",
   "execution_count": 4,
   "metadata": {
    "jupyter": {
     "source_hidden": true
    }
   },
   "outputs": [
    {
     "name": "stdout",
     "output_type": "stream",
     "text": [
      "race\n",
      "er_mode\n",
      "ecodepoa\n"
     ]
    }
   ],
   "source": [
    "orig_col = ['yod','age','sex','b_wt','ethnic','pt_state','race','raceethn','campus','er_mode','admtype', 'payer',\n",
    "      'yoa','pay_ub92','provider','asource','ecodepoa','moa','service','ecodub92','diag_adm','los']\n",
    "\n",
    "for c in orig_col:\n",
    "    if c not in df.columns:\n",
    "        print(c)"
   ]
  },
  {
   "cell_type": "markdown",
   "metadata": {},
   "source": [
    "#### Removed columns:\n",
    "* race\n",
    "* er_mode\n",
    "* ecodepoa"
   ]
  },
  {
   "cell_type": "markdown",
   "metadata": {},
   "source": [
    "### 2. Handle pt_state"
   ]
  },
  {
   "cell_type": "code",
   "execution_count": 5,
   "metadata": {
    "collapsed": true,
    "jupyter": {
     "outputs_hidden": true
    }
   },
   "outputs": [
    {
     "data": {
      "text/plain": [
       "array([nan, \"b'00'\", \"b'RI'\", \"b'CA'\", \"b'01'\", \"b'08'\", \"b'TX'\", \"b'CT'\",\n",
       "       \"b'NH'\", \"b'02'\", \"b'NC'\", \"b'DE'\", \"b'YY'\", \"b'MA'\", \"b'NY'\",\n",
       "       \"b'05'\", \"b'25'\", \"b'26'\", \"b'20'\", \"b'31'\", \"b'FL'\", \"b'11'\",\n",
       "       \"b'06'\", \"b'18'\", \"b'PA'\", \"b'03'\", \"b'16'\", \"b'IL'\", \"b'10'\",\n",
       "       \"b'13'\", \"b'21'\", \"b'07'\", \"b'09'\", \"b'LA'\", \"b'17'\", \"b'12'\",\n",
       "       \"b'NE'\", \"b'ME'\", \"b'04'\", \"b'22'\", \"b'NJ'\", \"b'15'\", \"b'19'\",\n",
       "       \"b'34'\", \"b'14'\", \"b'MI'\", \"b'MD'\", \"b'OR'\", \"b'NV'\", \"b'27'\",\n",
       "       \"b'OH'\", \"b'GA'\", \"b'AK'\", \"b'53'\", \"b'E8'\", \"b'MO'\", \"b'IN'\",\n",
       "       \"b'TN'\", \"b'VT'\", \"b'CO'\", \"b'AZ'\", \"b'VA'\", \"b'WI'\", \"b'KS'\",\n",
       "       \"b'-2'\", \"b'SC'\", \"b'DC'\", \"b'30'\", \"b'V4'\", \"b'MN'\", \"b'UK'\",\n",
       "       \"b'OK'\", \"b'V1'\", \"b'24'\", \"b'44'\", \"b'36'\", \"b'40'\", \"b'33'\",\n",
       "       \"b'61'\", \"b'80'\", \"b'45'\", \"b'73'\", \"b'AL'\", \"b'HI'\", \"b'0-'\",\n",
       "       \"b'XX'\", \"b'KY'\", \"b'E9'\", \"b'78'\", \"b'42'\", \"b'69'\", \"b'V0'\",\n",
       "       \"b'74'\", \"b'23'\", \"b'-3'\", \"b'WV'\", \"b'VI'\", \"b'AR'\", \"b'UT'\",\n",
       "       \"b'28'\", \"b'-4'\", \"b'-1'\", \"b'NM'\", \"b'WA'\", \"b'ID'\", \"b'V5'\",\n",
       "       \"b'FC'\", \"b'55'\", \"b'V6'\", \"b'41'\", \"b'60'\", \"b'29'\", \"b'38'\",\n",
       "       \"b'49'\", \"b'35'\", \"b'32'\", \"b'37'\", \"b'71'\", \"b'47'\", \"b'70'\",\n",
       "       \"b'56'\", \"b'46'\", \"b'59'\", \"b'43'\", \"b'ND'\", \"b'79'\", \"b'72'\",\n",
       "       \"b'UN'\", \"b'57'\", \"b'ON'\", \"b'51'\", \"b'64'\", \"b'39'\", \"b'89'\",\n",
       "       \"b'V8'\", \"b'58'\", \"b'62'\", \"b'90'\", \"b'92'\", \"b'91'\", \"b'MS'\",\n",
       "       \"b'48'\", \"b'V7'\", \"b'68'\", \"b'75'\", \"b'BC'\", \"b'88'\", \"b'-6'\",\n",
       "       \"b'V2'\", \"b'52'\", \"b'PQ'\", \"b'84'\", \"b'E0'\", \"b'50'\", \"b'QC'\",\n",
       "       \"b'AB'\", \"b'99'\", \"b'94'\", \"b'93'\", \"b'65'\", \"b'87'\", \"b'SD'\",\n",
       "       \"b'97'\", \"b'82'\", \"b'96'\", \"b'IA'\", \"b'GU'\", \"b'76'\", \"b'1'\",\n",
       "       \"b'MT'\", \"b'66'\", \"b'WY'\", \"b'__'\", \"b'95'\", \"b'81'\", \"b'E6'\",\n",
       "       \"b'Z2'\", \"b'F4'\", \"b'K2'\", \"b'I2'\", \"b'Z9'\", \"b'Y9'\", \"b'Z7'\",\n",
       "       \"b'E7'\", \"b'Y3'\", \"b'Z6'\", \"b'Z8'\", \"b'J4'\", \"b'I1'\", \"b'T4'\",\n",
       "       \"b'Z0'\", \"b'D6'\", \"b'E1'\", \"b'R4'\", \"b'C5'\", \"b'M5'\", \"b'F1'\",\n",
       "       \"b'F3'\", \"b'K6'\", \"b'K8'\", \"b'G4'\", \"b'Z5'\", \"b'I7'\", \"b'Z3'\",\n",
       "       \"b'I3'\", \"b'R0'\", \"b'I5'\", \"b'X7'\", \"b'F6'\", \"b'N1'\", \"b'W1'\",\n",
       "       \"b'I4'\", \"b'R1'\", \"b'R7'\", \"b'W0'\", \"b'R2'\", \"b'R5'\", \"b'K9'\",\n",
       "       \"b'F2'\", \"b'E2'\", \"b'B0'\", \"b'A4'\", \"b'T7'\", \"b'K3'\", \"b'K5'\",\n",
       "       \"b'S9'\", \"b'D5'\", \"b'T5'\", \"b'X8'\", \"b'T2'\", \"b'C1'\", \"b'M7'\",\n",
       "       \"b'H6'\", \"b'L0'\", \"b'G8'\", \"b'M1'\", \"b'J3'\", \"b'M9'\", \"b'H9'\",\n",
       "       \"b'G2'\", \"b'E4'\", \"b'B1'\", \"b'N4'\", \"b'K7'\", \"b'O7'\", \"b'M8'\",\n",
       "       \"b'L9'\", \"b'M6'\", \"b'L3'\", \"b'S6'\", \"b'X5'\", \"b'G6'\", \"b'S0'\",\n",
       "       \"b'F9'\", \"b'J1'\", \"b'K0'\", \"b'Y8'\", \"b'M0'\", \"b'E5'\", \"b'N2'\",\n",
       "       \"b'N3'\", \"b'M2'\", \"b'R6'\", \"b'I6'\", \"b'W2'\", \"b'O3'\", \"b'M4'\",\n",
       "       \"b'I8'\", \"b'I0'\", \"b'I9'\", \"b'N7'\", \"b'L2'\", \"b'T3'\", \"b'D7'\",\n",
       "       \"b'H3'\", \"b'O4'\", \"b'R9'\", \"b'S7'\", \"b'Y0'\", \"b'D2'\", \"b'F0'\",\n",
       "       \"b'G9'\", \"b'H4'\", \"b'A6'\", \"b'H5'\", \"b'B9'\", \"b'G3'\", \"b'X3'\",\n",
       "       \"b'F7'\", \"b'F8'\", \"b'K4'\", \"b'C8'\", \"b'R3'\", \"b'L7'\", \"b'PR'\",\n",
       "       \"b'S4'\", \"b'X9'\", \"b'L5'\", \"b'T1'\", \"b'C0'\", \"b'D1'\", \"b'Q2'\",\n",
       "       \"b'S5'\", \"b'T8'\", \"b'B3'\", \"b'R8'\", \"b'S8'\", \"b'O1'\", \"b'Y7'\",\n",
       "       \"b'K1'\", \"b'O9'\", \"b'C2'\", \"b'W5'\", \"b'O6'\", \"b'Y6'\", \"b'N6'\",\n",
       "       \"b'Z1'\", \"b'O2'\", \"b'W3'\", \"b'G5'\", \"b'R'\", \"b'F5'\", \"b'H2'\",\n",
       "       \"b'A0'\", \"b'L8'\", \"b'Z4'\", \"b'L4'\"], dtype=object)"
      ]
     },
     "execution_count": 5,
     "metadata": {},
     "output_type": "execute_result"
    }
   ],
   "source": [
    "df['pt_state'].unique()"
   ]
  },
  {
   "cell_type": "code",
   "execution_count": 5,
   "metadata": {},
   "outputs": [],
   "source": [
    "map_dict = defaultdict(lambda: 'Other')\n",
    "map_dict[\"b'RI'\"] = 'RI'\n",
    "map_dict[\"b'CT'\"] = 'CT'\n",
    "map_dict[\"b'MA'\"] = 'MA'"
   ]
  },
  {
   "cell_type": "code",
   "execution_count": 6,
   "metadata": {},
   "outputs": [],
   "source": [
    "df['pt_state'] = df['pt_state'].map(map_dict, na_action='ignore').fillna('Unknown')"
   ]
  },
  {
   "cell_type": "code",
   "execution_count": 7,
   "metadata": {},
   "outputs": [
    {
     "data": {
      "text/plain": [
       "array(['Unknown', 'Other', 'RI', 'CT', 'MA'], dtype=object)"
      ]
     },
     "execution_count": 7,
     "metadata": {},
     "output_type": "execute_result"
    }
   ],
   "source": [
    "df['pt_state'].unique()"
   ]
  },
  {
   "cell_type": "markdown",
   "metadata": {},
   "source": [
    "### 3. Handle ecodub92\n"
   ]
  },
  {
   "cell_type": "code",
   "execution_count": 8,
   "metadata": {},
   "outputs": [],
   "source": [
    "df = df.drop(['ecodub92'], axis=1)"
   ]
  },
  {
   "cell_type": "markdown",
   "metadata": {},
   "source": [
    "### 4. Handle diag_adm"
   ]
  },
  {
   "cell_type": "code",
   "execution_count": 9,
   "metadata": {},
   "outputs": [],
   "source": [
    "# fill NA values with 'Unknown'\n",
    "df['diag_adm'] = df['diag_adm'].fillna('Unknown')\n",
    "\n",
    "# Keep the first three letters of the diagnosis (Categories of dianosis)\n",
    "df['diag_adm'] = [i if i=='Unknown' else i[2:5] for i in df['diag_adm']]\n",
    "\n",
    "# Group diagnosis codes with few values into Others\n",
    "u = df['diag_adm'].value_counts()\n",
    "v = u.index[u.values<5]\n",
    "df['diag_adm'] = ['Others' if i in v else i for i in df['diag_adm']]"
   ]
  },
  {
   "cell_type": "code",
   "execution_count": 10,
   "metadata": {},
   "outputs": [],
   "source": [
    "def f(x):\n",
    "    r = pd.Series()\n",
    "    r['Unique Values'] =  x.unique().__len__()\n",
    "    missing_values = x.isna().sum()\n",
    "    r['Missing'] = missing_values\n",
    "    r['Missing Percentage'] =  missing_values/len(x)\n",
    "    r['Type'] = x.dtype\n",
    "    return(r)"
   ]
  },
  {
   "cell_type": "code",
   "execution_count": 11,
   "metadata": {},
   "outputs": [
    {
     "name": "stderr",
     "output_type": "stream",
     "text": [
      "D:\\Anaconda3\\lib\\site-packages\\ipykernel_launcher.py:2: DeprecationWarning: The default dtype for empty Series will be 'object' instead of 'float64' in a future version. Specify a dtype explicitly to silence this warning.\n",
      "  \n"
     ]
    },
    {
     "data": {
      "text/html": [
       "<div>\n",
       "<style scoped>\n",
       "    .dataframe tbody tr th:only-of-type {\n",
       "        vertical-align: middle;\n",
       "    }\n",
       "\n",
       "    .dataframe tbody tr th {\n",
       "        vertical-align: top;\n",
       "    }\n",
       "\n",
       "    .dataframe thead th {\n",
       "        text-align: right;\n",
       "    }\n",
       "</style>\n",
       "<table border=\"1\" class=\"dataframe\">\n",
       "  <thead>\n",
       "    <tr style=\"text-align: right;\">\n",
       "      <th></th>\n",
       "      <th>Unique Values</th>\n",
       "      <th>Missing</th>\n",
       "      <th>Missing Percentage</th>\n",
       "      <th>Type</th>\n",
       "    </tr>\n",
       "  </thead>\n",
       "  <tbody>\n",
       "    <tr>\n",
       "      <th>yod</th>\n",
       "      <td>16</td>\n",
       "      <td>0</td>\n",
       "      <td>0</td>\n",
       "      <td>float64</td>\n",
       "    </tr>\n",
       "    <tr>\n",
       "      <th>age</th>\n",
       "      <td>120</td>\n",
       "      <td>25</td>\n",
       "      <td>1.13046e-05</td>\n",
       "      <td>float64</td>\n",
       "    </tr>\n",
       "    <tr>\n",
       "      <th>sex</th>\n",
       "      <td>4</td>\n",
       "      <td>3</td>\n",
       "      <td>1.35655e-06</td>\n",
       "      <td>object</td>\n",
       "    </tr>\n",
       "    <tr>\n",
       "      <th>b_wt</th>\n",
       "      <td>4847</td>\n",
       "      <td>590017</td>\n",
       "      <td>0.266796</td>\n",
       "      <td>object</td>\n",
       "    </tr>\n",
       "    <tr>\n",
       "      <th>ethnic</th>\n",
       "      <td>6</td>\n",
       "      <td>285208</td>\n",
       "      <td>0.128966</td>\n",
       "      <td>float64</td>\n",
       "    </tr>\n",
       "    <tr>\n",
       "      <th>pt_state</th>\n",
       "      <td>5</td>\n",
       "      <td>0</td>\n",
       "      <td>0</td>\n",
       "      <td>object</td>\n",
       "    </tr>\n",
       "    <tr>\n",
       "      <th>raceethn</th>\n",
       "      <td>10</td>\n",
       "      <td>146005</td>\n",
       "      <td>0.0660211</td>\n",
       "      <td>object</td>\n",
       "    </tr>\n",
       "    <tr>\n",
       "      <th>campus</th>\n",
       "      <td>34</td>\n",
       "      <td>903208</td>\n",
       "      <td>0.408416</td>\n",
       "      <td>object</td>\n",
       "    </tr>\n",
       "    <tr>\n",
       "      <th>admtype</th>\n",
       "      <td>7</td>\n",
       "      <td>75</td>\n",
       "      <td>3.39138e-05</td>\n",
       "      <td>object</td>\n",
       "    </tr>\n",
       "    <tr>\n",
       "      <th>payer</th>\n",
       "      <td>18</td>\n",
       "      <td>0</td>\n",
       "      <td>0</td>\n",
       "      <td>object</td>\n",
       "    </tr>\n",
       "    <tr>\n",
       "      <th>yoa</th>\n",
       "      <td>20</td>\n",
       "      <td>0</td>\n",
       "      <td>0</td>\n",
       "      <td>float64</td>\n",
       "    </tr>\n",
       "    <tr>\n",
       "      <th>pay_ub92</th>\n",
       "      <td>17</td>\n",
       "      <td>273447</td>\n",
       "      <td>0.123648</td>\n",
       "      <td>float64</td>\n",
       "    </tr>\n",
       "    <tr>\n",
       "      <th>provider</th>\n",
       "      <td>14</td>\n",
       "      <td>0</td>\n",
       "      <td>0</td>\n",
       "      <td>object</td>\n",
       "    </tr>\n",
       "    <tr>\n",
       "      <th>asource</th>\n",
       "      <td>22</td>\n",
       "      <td>1451</td>\n",
       "      <td>0.000656119</td>\n",
       "      <td>object</td>\n",
       "    </tr>\n",
       "    <tr>\n",
       "      <th>moa</th>\n",
       "      <td>14</td>\n",
       "      <td>143682</td>\n",
       "      <td>0.0649707</td>\n",
       "      <td>float64</td>\n",
       "    </tr>\n",
       "    <tr>\n",
       "      <th>service</th>\n",
       "      <td>18</td>\n",
       "      <td>1190</td>\n",
       "      <td>0.000538099</td>\n",
       "      <td>object</td>\n",
       "    </tr>\n",
       "    <tr>\n",
       "      <th>diag_adm</th>\n",
       "      <td>1784</td>\n",
       "      <td>0</td>\n",
       "      <td>0</td>\n",
       "      <td>object</td>\n",
       "    </tr>\n",
       "    <tr>\n",
       "      <th>los</th>\n",
       "      <td>444</td>\n",
       "      <td>60207</td>\n",
       "      <td>0.0272246</td>\n",
       "      <td>float64</td>\n",
       "    </tr>\n",
       "  </tbody>\n",
       "</table>\n",
       "</div>"
      ],
      "text/plain": [
       "         Unique Values Missing Missing Percentage     Type\n",
       "yod                 16       0                  0  float64\n",
       "age                120      25        1.13046e-05  float64\n",
       "sex                  4       3        1.35655e-06   object\n",
       "b_wt              4847  590017           0.266796   object\n",
       "ethnic               6  285208           0.128966  float64\n",
       "pt_state             5       0                  0   object\n",
       "raceethn            10  146005          0.0660211   object\n",
       "campus              34  903208           0.408416   object\n",
       "admtype              7      75        3.39138e-05   object\n",
       "payer               18       0                  0   object\n",
       "yoa                 20       0                  0  float64\n",
       "pay_ub92            17  273447           0.123648  float64\n",
       "provider            14       0                  0   object\n",
       "asource             22    1451        0.000656119   object\n",
       "moa                 14  143682          0.0649707  float64\n",
       "service             18    1190        0.000538099   object\n",
       "diag_adm          1784       0                  0   object\n",
       "los                444   60207          0.0272246  float64"
      ]
     },
     "execution_count": 11,
     "metadata": {},
     "output_type": "execute_result"
    }
   ],
   "source": [
    "u = df.apply(f, axis=0)\n",
    "u.transpose()"
   ]
  },
  {
   "cell_type": "markdown",
   "metadata": {},
   "source": [
    "### 5. Save the data"
   ]
  },
  {
   "cell_type": "code",
   "execution_count": 13,
   "metadata": {},
   "outputs": [],
   "source": [
    "df.to_csv('../df_clean.csv', index=False)"
   ]
  },
  {
   "cell_type": "markdown",
   "metadata": {},
   "source": [
    "## Further Cleaning and resaving"
   ]
  },
  {
   "cell_type": "code",
   "execution_count": 3,
   "metadata": {},
   "outputs": [
    {
     "name": "stderr",
     "output_type": "stream",
     "text": [
      "D:\\Anaconda3\\lib\\site-packages\\IPython\\core\\interactiveshell.py:3063: DtypeWarning: Columns (7) have mixed types.Specify dtype option on import or set low_memory=False.\n",
      "  interactivity=interactivity, compiler=compiler, result=result)\n"
     ]
    }
   ],
   "source": [
    "df = pd.read_csv('../df_clean.csv')"
   ]
  },
  {
   "cell_type": "code",
   "execution_count": 4,
   "metadata": {},
   "outputs": [],
   "source": [
    "column_values = []\n",
    "for c in df.columns:\n",
    "    column_values.append((c, df[c].dtype, df[c].unique()))"
   ]
  },
  {
   "cell_type": "code",
   "execution_count": 6,
   "metadata": {
    "collapsed": true,
    "jupyter": {
     "outputs_hidden": true
    }
   },
   "outputs": [
    {
     "data": {
      "text/plain": [
       "[('yod',\n",
       "  dtype('float64'),\n",
       "  array([ 3.,  4.,  5.,  6.,  7.,  8.,  9., 10., 11., 12., 13., 14., 15.,\n",
       "         16., 17., 18.])),\n",
       " ('age',\n",
       "  dtype('float64'),\n",
       "  array([ 39.,  59.,  57.,  54.,  58.,  48.,  50.,  55.,  46.,  56.,  76.,\n",
       "          47.,  61.,  45.,  51.,  42.,  63.,  64.,  62.,  43.,  84.,  67.,\n",
       "          37.,  38.,  41.,  70.,  35.,  49.,  40.,  33.,  36.,  32.,  52.,\n",
       "          44.,  60.,  53.,  71.,  28.,  78.,  26.,  30.,  34.,  23.,  25.,\n",
       "          22.,  21.,  27.,  29.,  24.,  81.,  20.,  19.,  14.,  31.,  75.,\n",
       "          82.,  13.,  15.,  18.,  10.,  17.,  12.,  11.,  68.,  85.,  80.,\n",
       "          98.,   9.,   8.,  79.,  86.,  65.,  16.,  88.,  83.,  77.,  73.,\n",
       "           7.,  95.,   5.,  66.,  89.,   4.,  72.,  69.,   6.,  91.,  87.,\n",
       "          94.,  74.,  90.,   3.,  93.,  nan,  92.,  96.,   0.,   1., 100.,\n",
       "           2.,  97., 104.,  99., 101., 102., 114., 105., 106., 108., 103.,\n",
       "         115., 109., 107., 118., 119., 122., 110., 111., 123., 124.])),\n",
       " ('sex', dtype('O'), array([\"b'2'\", \"b'1'\", nan, \"b'9'\"], dtype=object)),\n",
       " ('b_wt',\n",
       "  dtype('O'),\n",
       "  array([nan, \"b'5382'\", \"b'8121'\", ..., \"b'358'\", \"b'8349'\", \"b'433X'\"],\n",
       "        dtype=object)),\n",
       " ('ethnic', dtype('float64'), array([nan,  2.,  3.,  1.,  0.,  9.])),\n",
       " ('pt_state',\n",
       "  dtype('O'),\n",
       "  array(['Unknown', 'Other', 'RI', 'CT', 'MA'], dtype=object)),\n",
       " ('raceethn',\n",
       "  dtype('O'),\n",
       "  array([\"b'1'\", \"b'2'\", \"b'6'\", \"b'3'\", \"b'4'\", \"b'5'\", \"b'9'\", \"b'0'\",\n",
       "         nan, \"b'7'\"], dtype=object)),\n",
       " ('campus',\n",
       "  dtype('O'),\n",
       "  array([nan, \"b'0'\", \"b'7'\", \"b'5'\", \"b'9'\", \"b'4'\", \"b'2'\", \"b'3'\",\n",
       "         \"b'8'\", \"b'6'\", \"b'1'\", \"b'V'\", \"b'E'\", \"b'Z'\", \"b'F'\", \"b'A'\",\n",
       "         \"b'R'\", \"b'J'\", \"b'Y'\", \"b'G'\", \"b'N'\", \"b'I'\", \"b'M'\", \"b'D'\",\n",
       "         \"b'H'\", \"b'K'\", \"b'T'\", \"b'W'\", \"b'X'\", \"b'B'\", \"b'S'\", \"b'C'\",\n",
       "         \"b'L'\", \"b'O'\"], dtype=object)),\n",
       " ('admtype',\n",
       "  dtype('O'),\n",
       "  array([\"b'3'\", \"b'1'\", \"b'5'\", \"b'2'\", \"b'4'\", nan, \"b'9'\"], dtype=object)),\n",
       " ('payer',\n",
       "  dtype('O'),\n",
       "  array([\"b'6'\", \"b'0'\", \"b'D'\", \"b'5'\", \"b'1'\", \"b'B'\", \"b'E'\", \"b'Z'\",\n",
       "         \"b'7'\", \"b'8'\", \"b'G'\", \"b'Y'\", \"b'4'\", \"b'3'\", \"b'X'\", \"b'2'\",\n",
       "         \"b'9'\", \"b'H'\"], dtype=object)),\n",
       " ('yoa',\n",
       "  dtype('float64'),\n",
       "  array([ 3.,  2.,  1.,  4.,  0., 96.,  5.,  6.,  7.,  8.,  9., 10., 11.,\n",
       "         12., 13., 14., 15., 16., 17., 18.])),\n",
       " ('pay_ub92',\n",
       "  dtype('float64'),\n",
       "  array([nan,  1.,  6.,  8.,  4.,  2.,  9.,  7., 11., 98., 13.,  3., 10.,\n",
       "         99., 12.,  5., 15.])),\n",
       " ('provider',\n",
       "  dtype('O'),\n",
       "  array([\"b'7216'\", \"b'7215'\", \"b'7212'\", \"b'7201'\", \"b'7209'\", \"b'7203'\",\n",
       "         \"b'7205'\", \"b'7204'\", \"b'7210'\", \"b'7206'\", \"b'7213'\", \"b'7202'\",\n",
       "         \"b'7214'\", \"b'7211'\"], dtype=object)),\n",
       " ('asource',\n",
       "  dtype('O'),\n",
       "  array([\"b'1'\", \"b'4'\", \"b'5'\", nan, \"b'8'\", \"b'2'\", \"b'9'\", \"b'7'\",\n",
       "         \"b'A'\", \"b'6'\", \"b'3'\", \"b'D'\", \"b'B'\", \"b'U'\", \"b'X'\", \"b'V'\",\n",
       "         \"b'S'\", \"b'C'\", \"b'T'\", \"b'E'\", \"b'F'\", \"b'0'\"], dtype=object)),\n",
       " ('moa',\n",
       "  dtype('float64'),\n",
       "  array([ 2.,  1.,  3., 12.,  7.,  9., 11.,  4.,  5.,  6.,  8., 10., nan,\n",
       "          0.])),\n",
       " ('service',\n",
       "  dtype('O'),\n",
       "  array([\"b'38'\", \"b'98'\", \"b'10'\", \"b'40'\", \"b'58'\", \"b'22'\", \"b'62'\",\n",
       "         \"b'77'\", \"b'80'\", \"b'76'\", \"b'02'\", \"b'70'\", \"b'48'\", \"b'54'\",\n",
       "         \"b'50'\", \"b'75'\", nan, \"b'00'\"], dtype=object)),\n",
       " ('diag_adm',\n",
       "  dtype('O'),\n",
       "  array(['Unknown', '000', '997', ..., 'O61', 'O65', 'O67'], dtype=object)),\n",
       " ('los',\n",
       "  dtype('float64'),\n",
       "  array([ 4.000e+00,  2.200e+01,  1.200e+01,  1.700e+01,  8.000e+00,\n",
       "          7.000e+00,  2.300e+01,  1.600e+01,  6.000e+00,  1.300e+01,\n",
       "          1.000e+00,  3.100e+01,  1.000e+01,  2.800e+01,  1.100e+01,\n",
       "          3.400e+01,  0.000e+00,  3.000e+00,  2.000e+00,  2.000e+01,\n",
       "          9.000e+00,  2.500e+01,  2.400e+01,  1.900e+01,  1.500e+01,\n",
       "          5.000e+00,  1.400e+01,  1.800e+01,  4.300e+01,  3.300e+01,\n",
       "          4.000e+01,  2.600e+01,  3.200e+01,  2.100e+01,  2.900e+01,\n",
       "          2.700e+01,  1.070e+02,  4.170e+02,  4.500e+01,  1.680e+02,\n",
       "          5.400e+01,  3.500e+01,  1.220e+02,  6.700e+01,  3.700e+01,\n",
       "          5.700e+01,  4.800e+01,  3.800e+01,  3.000e+01,  4.400e+01,\n",
       "          3.600e+01,  4.700e+01,  6.000e+01,  1.450e+02,  4.100e+01,\n",
       "          5.300e+01,  3.190e+02,  3.600e+02,  5.800e+01,  5.200e+01,\n",
       "          4.900e+01,  7.600e+01,  4.200e+01,  8.700e+01,  7.100e+01,\n",
       "          9.200e+01,  7.700e+01,  5.500e+01,  1.410e+02,  6.800e+01,\n",
       "          9.300e+01,  1.120e+02,  2.980e+02,  4.800e+02,  2.750e+02,\n",
       "          1.130e+02,  6.410e+02,  1.850e+02,  6.220e+02,  6.300e+01,\n",
       "          7.400e+01,  1.880e+02,  1.210e+02,  1.370e+02,  5.100e+01,\n",
       "          8.500e+01,  1.150e+02,  5.000e+01,  8.600e+01,  4.600e+01,\n",
       "          9.800e+01,  1.270e+02,  6.740e+02,  8.000e+01,  2.600e+02,\n",
       "          1.040e+02,  8.400e+01,  5.900e+01,  2.030e+02,  9.900e+01,\n",
       "          6.900e+01,  1.390e+02,  8.300e+01,  1.530e+02,  1.310e+02,\n",
       "          2.700e+02,  1.330e+02,  7.000e+01,  1.050e+02,  1.360e+02,\n",
       "          5.600e+01,  1.020e+02,  1.250e+02,  6.500e+01,  3.900e+01,\n",
       "          7.300e+01,  8.900e+01,  7.200e+01,  6.100e+01,  1.080e+02,\n",
       "          9.400e+01,  7.900e+01,  1.030e+02,  1.010e+02,  6.200e+01,\n",
       "          1.640e+02,  1.350e+02,  1.710e+02,  6.600e+01,  6.400e+01,\n",
       "          7.800e+01,  1.170e+02,  1.300e+02,  9.700e+01,  8.100e+01,\n",
       "          8.200e+01,  1.180e+02,  9.000e+01,  9.500e+01,  1.290e+02,\n",
       "          7.500e+01,  3.850e+02,  2.210e+02,  1.280e+02,  1.000e+02,\n",
       "          2.080e+02,  1.650e+02,  1.660e+02,  1.200e+02,  2.530e+02,\n",
       "          2.000e+02,  1.090e+02,  1.240e+02,  8.800e+01,  1.160e+02,\n",
       "          1.540e+02,  1.780e+02,  1.750e+02,  1.320e+02,  1.230e+02,\n",
       "          9.100e+01,  1.100e+02,  1.670e+02,  1.560e+02,  2.100e+02,\n",
       "          1.760e+02,  2.410e+02,  1.610e+02,  2.420e+02,  1.260e+02,\n",
       "          1.440e+02,  1.400e+02,  1.190e+02,  1.590e+02,  1.690e+02,\n",
       "          1.060e+02,  2.430e+02,  1.500e+02,  9.600e+01,  1.110e+02,\n",
       "          1.380e+02,  2.790e+02,  1.470e+02,  1.600e+02,  1.430e+02,\n",
       "          1.140e+02,  3.560e+02,  1.900e+02,  3.400e+02,  3.110e+02,\n",
       "          1.870e+02,  3.180e+02,  1.480e+02,  1.830e+02,  4.650e+02,\n",
       "          1.990e+02,  2.460e+02,  1.460e+02,  4.420e+02,  2.190e+02,\n",
       "          4.740e+02,  9.450e+02,  4.790e+02,  2.280e+02,  1.970e+02,\n",
       "          4.270e+02,  9.970e+02,  8.320e+02,  2.480e+02,  1.412e+03,\n",
       "          2.570e+02,  1.890e+02,  8.960e+02,  2.580e+02,  3.179e+03,\n",
       "          1.510e+02,  3.090e+02,  1.259e+03,  3.230e+02,  2.770e+02,\n",
       "          2.170e+02,  2.110e+02,  1.840e+02,  2.360e+02,  3.680e+02,\n",
       "          1.580e+02,  2.560e+02,  2.710e+02,  1.570e+02,  3.130e+02,\n",
       "          2.220e+02,  1.740e+02,  2.690e+02,  2.590e+02,  1.630e+02,\n",
       "          1.770e+02,  5.520e+02,  1.420e+02,  1.790e+02,  2.150e+02,\n",
       "          1.807e+03,  4.640e+02,  1.980e+02,  2.830e+02,  3.310e+02,\n",
       "          1.820e+02,  1.950e+02,  2.020e+02,  4.950e+02,  1.106e+03,\n",
       "          4.030e+02,  2.540e+02,  1.520e+02,  1.800e+02,  2.630e+02,\n",
       "          1.960e+02,  2.140e+02,  1.620e+02,  3.470e+02,  1.550e+02,\n",
       "          2.130e+02,  1.910e+02,  2.510e+02,  1.490e+02,  1.700e+02,\n",
       "          1.340e+02,  2.310e+02,  2.860e+02,  8.290e+02,  1.940e+02,\n",
       "          4.250e+02,  3.740e+02,  6.250e+02,  2.230e+02,  1.920e+02,\n",
       "          2.500e+02,  2.260e+02,  4.180e+02,  3.780e+02,  2.090e+02,\n",
       "          6.660e+02,  8.190e+02,  8.070e+02,  6.720e+02,  2.800e+02,\n",
       "          4.480e+02,  2.400e+02,  2.490e+02,  2.740e+02,  4.590e+02,\n",
       "          5.880e+02,  5.430e+02,  2.810e+02,  1.930e+02,  3.760e+02,\n",
       "          1.720e+02,  2.200e+02,  2.640e+02,  1.055e+03,  2.780e+02,\n",
       "          2.180e+02,  2.550e+02,  2.120e+02,  2.820e+02,  3.790e+02,\n",
       "          3.240e+02,  2.270e+02,  3.200e+02,  5.820e+02,  2.060e+02,\n",
       "          3.390e+02,  5.010e+02,  1.730e+02,  2.330e+02,  2.010e+02,\n",
       "          2.480e+03,  1.810e+02,  5.970e+02,  5.050e+02,  2.390e+02,\n",
       "          1.791e+03,  1.113e+03,  3.070e+02,  5.190e+02,  5.030e+02,\n",
       "          4.200e+02,  5.340e+02,  2.660e+02,  3.900e+02,  2.910e+02,\n",
       "          2.290e+02,  3.080e+02,  9.370e+02,  4.350e+02,  2.040e+02,\n",
       "          3.550e+02,  3.170e+02,  2.350e+02,  2.470e+02,  4.830e+02,\n",
       "          3.840e+02,  5.710e+02,  2.160e+02,  3.830e+02,  2.650e+02,\n",
       "          7.430e+02,  3.460e+02,  4.550e+02,  2.300e+02,  4.510e+02,\n",
       "          3.380e+02,  2.050e+02,  2.370e+02,  2.920e+02,  2.940e+02,\n",
       "          3.360e+02,  5.120e+02,  2.450e+02,  6.270e+02,  3.010e+02,\n",
       "          5.200e+02,  2.900e+02,  5.240e+02,  3.430e+02,  7.280e+02,\n",
       "          6.970e+02,  3.160e+02,  4.880e+02,  3.700e+02,  3.150e+02,\n",
       "          3.570e+02,  4.100e+02,  4.140e+02,  3.060e+02,  2.373e+03,\n",
       "          4.290e+02,  3.020e+02,  2.870e+02,  2.070e+02,  3.770e+02,\n",
       "          9.610e+02,  3.350e+02,  9.580e+02,  3.490e+02,  2.380e+02,\n",
       "          3.420e+02,  2.340e+02,  3.100e+02,  4.850e+02,  4.960e+02,\n",
       "                nan, -1.000e+00, -2.000e+00, -3.000e+00, -4.000e+00,\n",
       "         -5.000e+00,  3.330e+02, -7.000e+00,  3.650e+02,  3.630e+02,\n",
       "         -2.200e+01,  1.708e+03,  3.500e+02,  5.110e+02,  3.050e+02,\n",
       "          3.250e+02,  8.230e+02,  5.100e+02,  3.720e+02,  2.730e+02,\n",
       "          2.610e+02,  3.000e+02,  3.440e+02,  3.920e+02,  3.410e+02,\n",
       "          3.580e+02,  2.720e+02,  6.590e+02,  7.100e+02,  3.890e+02,\n",
       "          6.060e+02,  3.140e+02,  4.680e+02,  3.820e+02,  4.450e+02,\n",
       "          2.320e+02,  4.870e+02,  4.530e+02,  3.547e+03,  1.948e+03,\n",
       "          2.890e+02,  3.510e+02,  3.530e+02,  3.750e+02,  3.040e+02,\n",
       "          4.930e+02,  2.440e+02,  3.800e+02,  3.960e+02,  1.860e+02,\n",
       "          2.240e+02,  3.280e+02,  5.280e+02,  4.710e+02]))]"
      ]
     },
     "execution_count": 6,
     "metadata": {},
     "output_type": "execute_result"
    }
   ],
   "source": [
    "column_values"
   ]
  },
  {
   "cell_type": "markdown",
   "metadata": {},
   "source": [
    "### Mapping yod (year of discharge), yoa (year of admission), and moa (month of admission) to int\n",
    "* Currently it is the last two digits of the year, with leading zeroes truncated\n",
    "* Possible format to full year?"
   ]
  },
  {
   "cell_type": "code",
   "execution_count": 5,
   "metadata": {},
   "outputs": [],
   "source": [
    "df['yod'] = pd.to_numeric(df['yod'], downcast='integer')\n",
    "df['yoa'] = pd.to_numeric(df['yoa'], downcast='integer')\n",
    "df['moa'] = pd.to_numeric(df['moa'].fillna(-1), downcast='integer')"
   ]
  },
  {
   "cell_type": "code",
   "execution_count": 6,
   "metadata": {},
   "outputs": [
    {
     "data": {
      "text/plain": [
       "array([ 3,  4,  5,  6,  7,  8,  9, 10, 11, 12, 13, 14, 15, 16, 17, 18],\n",
       "      dtype=int8)"
      ]
     },
     "execution_count": 6,
     "metadata": {},
     "output_type": "execute_result"
    }
   ],
   "source": [
    "df['yod'].unique()"
   ]
  },
  {
   "cell_type": "code",
   "execution_count": 7,
   "metadata": {},
   "outputs": [
    {
     "data": {
      "text/plain": [
       "array([ 3,  2,  1,  4,  0, 96,  5,  6,  7,  8,  9, 10, 11, 12, 13, 14, 15,\n",
       "       16, 17, 18], dtype=int8)"
      ]
     },
     "execution_count": 7,
     "metadata": {},
     "output_type": "execute_result"
    }
   ],
   "source": [
    "df['yoa'].unique()"
   ]
  },
  {
   "cell_type": "code",
   "execution_count": 8,
   "metadata": {},
   "outputs": [
    {
     "data": {
      "text/plain": [
       "array([ 2,  1,  3, 12,  7,  9, 11,  4,  5,  6,  8, 10, -1,  0], dtype=int8)"
      ]
     },
     "execution_count": 8,
     "metadata": {},
     "output_type": "execute_result"
    }
   ],
   "source": [
    "df['moa'].unique()"
   ]
  },
  {
   "cell_type": "markdown",
   "metadata": {},
   "source": [
    "### Mapping age to int\n",
    "* NaN mapped to -1"
   ]
  },
  {
   "cell_type": "code",
   "execution_count": 9,
   "metadata": {},
   "outputs": [],
   "source": [
    "df['age'] = pd.to_numeric(df['age'].fillna(-1), downcast='integer')"
   ]
  },
  {
   "cell_type": "code",
   "execution_count": 10,
   "metadata": {},
   "outputs": [
    {
     "data": {
      "text/plain": [
       "array([ -1,   0,   1,   2,   3,   4,   5,   6,   7,   8,   9,  10,  11,\n",
       "        12,  13,  14,  15,  16,  17,  18,  19,  20,  21,  22,  23,  24,\n",
       "        25,  26,  27,  28,  29,  30,  31,  32,  33,  34,  35,  36,  37,\n",
       "        38,  39,  40,  41,  42,  43,  44,  45,  46,  47,  48,  49,  50,\n",
       "        51,  52,  53,  54,  55,  56,  57,  58,  59,  60,  61,  62,  63,\n",
       "        64,  65,  66,  67,  68,  69,  70,  71,  72,  73,  74,  75,  76,\n",
       "        77,  78,  79,  80,  81,  82,  83,  84,  85,  86,  87,  88,  89,\n",
       "        90,  91,  92,  93,  94,  95,  96,  97,  98,  99, 100, 101, 102,\n",
       "       103, 104, 105, 106, 107, 108, 109, 110, 111, 114, 115, 118, 119,\n",
       "       122, 123, 124], dtype=int8)"
      ]
     },
     "execution_count": 10,
     "metadata": {},
     "output_type": "execute_result"
    }
   ],
   "source": [
    "np.sort(df['age'].unique())"
   ]
  },
  {
   "cell_type": "markdown",
   "metadata": {},
   "source": [
    "### Handling sex\n",
    "* Changing b'1' and b'2' to 1 and 2 (Male and Female respectively)\n",
    "* Documentation does not explain b'9', so changing that and nan to -1"
   ]
  },
  {
   "cell_type": "code",
   "execution_count": 11,
   "metadata": {},
   "outputs": [],
   "source": [
    "map_dict = {\"b'1'\": 'Male', \"b'2'\": 'Female', \"b'9'\": 'Unknown'}"
   ]
  },
  {
   "cell_type": "code",
   "execution_count": 12,
   "metadata": {},
   "outputs": [],
   "source": [
    "df['sex'] = df['sex'].map(map_dict, na_action='ignore').fillna('Unknown').astype('category')"
   ]
  },
  {
   "cell_type": "code",
   "execution_count": 13,
   "metadata": {},
   "outputs": [
    {
     "data": {
      "text/plain": [
       "[Female, Male, Unknown]\n",
       "Categories (3, object): [Female, Male, Unknown]"
      ]
     },
     "execution_count": 13,
     "metadata": {},
     "output_type": "execute_result"
    }
   ],
   "source": [
    "df['sex'].unique()"
   ]
  },
  {
   "cell_type": "markdown",
   "metadata": {},
   "source": [
    "### Making b_wt (weight in grams when born) numeric\n",
    "* Making nan values -1\n",
    "* Changing values not fully numeric (e.g. b'0V58') to -1 as well\n",
    "    * Some values possibly only missing certain digits (e.g. b'58XX') could have digits filled if desired"
   ]
  },
  {
   "cell_type": "code",
   "execution_count": 14,
   "metadata": {},
   "outputs": [],
   "source": [
    "def map_func(x):\n",
    "    try:\n",
    "        return int(x[2:-1])\n",
    "    except:\n",
    "        return -1"
   ]
  },
  {
   "cell_type": "code",
   "execution_count": 15,
   "metadata": {},
   "outputs": [],
   "source": [
    "df['b_wt'] = df['b_wt'].map(map_func, na_action='ignore').fillna(-1)\n",
    "df['b_wt'] = pd.to_numeric(df['b_wt'], downcast='integer')"
   ]
  },
  {
   "cell_type": "code",
   "execution_count": 16,
   "metadata": {},
   "outputs": [
    {
     "data": {
      "text/plain": [
       "array([  -1, 5382, 8121, ...,  132,  358, 8349], dtype=int16)"
      ]
     },
     "execution_count": 16,
     "metadata": {},
     "output_type": "execute_result"
    }
   ],
   "source": [
    "df['b_wt'].unique()"
   ]
  },
  {
   "cell_type": "markdown",
   "metadata": {},
   "source": [
    "### Creating Stay column\n",
    "* Short is los >=0 and <= 14\n",
    "* Long is los > 14\n",
    "* Neither is los < 0 and nan values"
   ]
  },
  {
   "cell_type": "code",
   "execution_count": 17,
   "metadata": {},
   "outputs": [],
   "source": [
    "df['Stay'] = pd.cut(df['los'].fillna(-1),\n",
    "                    bins=[df['los'].min()-1, -1, 14, df['los'].max()], \n",
    "                    labels=['Neither', 'Short', 'Long']\n",
    "                   ).astype('category')"
   ]
  },
  {
   "cell_type": "code",
   "execution_count": 18,
   "metadata": {},
   "outputs": [
    {
     "data": {
      "text/plain": [
       "[Short, Long, Neither]\n",
       "Categories (3, object): [Neither < Short < Long]"
      ]
     },
     "execution_count": 18,
     "metadata": {},
     "output_type": "execute_result"
    }
   ],
   "source": [
    "df['Stay'].unique()"
   ]
  },
  {
   "cell_type": "markdown",
   "metadata": {},
   "source": [
    "### Fixing negative los values\n",
    "* Negative and nan values defaulting to -1"
   ]
  },
  {
   "cell_type": "code",
   "execution_count": 19,
   "metadata": {},
   "outputs": [],
   "source": [
    "def remove_neg_values(num):\n",
    "    if num < 0:\n",
    "        return -1\n",
    "    else:\n",
    "        return num"
   ]
  },
  {
   "cell_type": "code",
   "execution_count": 20,
   "metadata": {},
   "outputs": [],
   "source": [
    "df['los'] = pd.to_numeric(df['los'].fillna(-1).map(remove_neg_values), downcast='integer')"
   ]
  },
  {
   "cell_type": "markdown",
   "metadata": {},
   "source": [
    "### Handling raceethn"
   ]
  },
  {
   "cell_type": "code",
   "execution_count": 21,
   "metadata": {},
   "outputs": [],
   "source": [
    "map_dict = {\"b'1'\": 'White, not Hispanic', \"b'2'\": 'Black, not Hispanic', \"b'3'\": 'Asian, not Hispanic', \n",
    "            \"b'4'\": 'American Indian, not Hispanic', \"b'5'\": 'Native Hawaiian, not Hispanic', \"b'6'\": 'Other, not Hispanic', \n",
    "            \"b'7'\": 'Hispanic, all races', \"b'9'\": 'Unknown', \"b'0'\": 'Unknown'}"
   ]
  },
  {
   "cell_type": "code",
   "execution_count": 22,
   "metadata": {},
   "outputs": [],
   "source": [
    "df['raceethn'] = df['raceethn'].map(map_dict, na_action='ignore').fillna('Unknown').astype('category')"
   ]
  },
  {
   "cell_type": "code",
   "execution_count": 23,
   "metadata": {},
   "outputs": [
    {
     "data": {
      "text/plain": [
       "[White, not Hispanic, Black, not Hispanic, Other, not Hispanic, Asian, not Hispanic, American Indian, not Hispanic, Native Hawaiian, not Hispanic, Unknown, Hispanic, all races]\n",
       "Categories (8, object): [White, not Hispanic, Black, not Hispanic, Other, not Hispanic, Asian, not Hispanic, American Indian, not Hispanic, Native Hawaiian, not Hispanic, Unknown, Hispanic, all races]"
      ]
     },
     "execution_count": 23,
     "metadata": {},
     "output_type": "execute_result"
    }
   ],
   "source": [
    "df['raceethn'].unique()"
   ]
  },
  {
   "cell_type": "markdown",
   "metadata": {},
   "source": [
    "Labeling could probably use some work"
   ]
  },
  {
   "cell_type": "markdown",
   "metadata": {},
   "source": [
    "### Handling ethnic"
   ]
  },
  {
   "cell_type": "code",
   "execution_count": 24,
   "metadata": {},
   "outputs": [],
   "source": [
    "map_dict = {0: 'Unknown', 1:'Yes hispanic', 2:'Not hispanic', \n",
    "            3:'Not reported', 9:'Not reported'}"
   ]
  },
  {
   "cell_type": "code",
   "execution_count": 26,
   "metadata": {},
   "outputs": [],
   "source": [
    "df['ethnic'] = df['ethnic'].map(map_dict, na_action='ignore').fillna('Unknown').astype('category')"
   ]
  },
  {
   "cell_type": "code",
   "execution_count": 27,
   "metadata": {},
   "outputs": [
    {
     "data": {
      "text/plain": [
       "[Unknown, Not hispanic, Not reported, Yes hispanic]\n",
       "Categories (4, object): [Unknown, Not hispanic, Not reported, Yes hispanic]"
      ]
     },
     "execution_count": 27,
     "metadata": {},
     "output_type": "execute_result"
    }
   ],
   "source": [
    "df['ethnic'].unique()"
   ]
  },
  {
   "cell_type": "markdown",
   "metadata": {},
   "source": [
    "Not reported and unknown could probably be combined"
   ]
  },
  {
   "cell_type": "markdown",
   "metadata": {},
   "source": [
    "### Handling admtype"
   ]
  },
  {
   "cell_type": "code",
   "execution_count": 28,
   "metadata": {},
   "outputs": [],
   "source": [
    "map_dict = {\"b'1'\": 'Emergency', \"b'2'\": 'Urgent', \"b'3'\": 'Electric', \\\n",
    "            \"b'4'\": 'Newborn', \"b'5'\": 'Trauma', \"b'9'\": 'Information not available'}"
   ]
  },
  {
   "cell_type": "code",
   "execution_count": 29,
   "metadata": {},
   "outputs": [],
   "source": [
    "df['admtype'] = df['admtype'].map(map_dict, na_action='ignore').fillna('Information not available').astype('category')"
   ]
  },
  {
   "cell_type": "code",
   "execution_count": 30,
   "metadata": {},
   "outputs": [
    {
     "data": {
      "text/plain": [
       "[Electric, Emergency, Trauma, Urgent, Newborn, Information not available]\n",
       "Categories (6, object): [Electric, Emergency, Trauma, Urgent, Newborn, Information not available]"
      ]
     },
     "execution_count": 30,
     "metadata": {},
     "output_type": "execute_result"
    }
   ],
   "source": [
    "df['admtype'].unique()"
   ]
  },
  {
   "cell_type": "markdown",
   "metadata": {},
   "source": [
    "What exactly is electric?"
   ]
  },
  {
   "cell_type": "markdown",
   "metadata": {},
   "source": [
    "### Handling provider"
   ]
  },
  {
   "cell_type": "code",
   "execution_count": 31,
   "metadata": {},
   "outputs": [],
   "source": [
    "map_dict = {\"b'7216'\": 'Butler', \"b'7215'\": 'Bradley', \"b'7212'\": 'Rehab of RI', \"b'7201'\": 'Newport', \n",
    "            \"b'7209'\": 'South County', \"b'7203'\": 'Memorial', \"b'7205'\": 'Rhode Island Hospital', \n",
    "            \"b'7204'\": 'Miriam', \"b'7210'\": 'Kent County', \"b'7206'\": 'Roger Williams', \n",
    "            \"b'7213'\": 'Landmark Medical Center', \"b'7202'\": 'St. Joseph Health Services of RI',\n",
    "            \"b'7214'\": 'Women and Infants', \"b'7211'\": 'Westerly'}"
   ]
  },
  {
   "cell_type": "code",
   "execution_count": 32,
   "metadata": {},
   "outputs": [],
   "source": [
    "df['provider'] = df['provider'].map(map_dict, na_action='ignore').fillna('Unknown').astype('category')"
   ]
  },
  {
   "cell_type": "code",
   "execution_count": 33,
   "metadata": {},
   "outputs": [
    {
     "data": {
      "text/plain": [
       "[Butler, Bradley, Rehab of RI, Newport, South County, ..., Roger Williams, Landmark Medical Center, St. Joseph Health Services of RI, Women and Infants, Westerly]\n",
       "Length: 14\n",
       "Categories (14, object): [Butler, Bradley, Rehab of RI, Newport, ..., Landmark Medical Center, St. Joseph Health Services of RI, Women and Infants, Westerly]"
      ]
     },
     "execution_count": 33,
     "metadata": {},
     "output_type": "execute_result"
    }
   ],
   "source": [
    "df['provider'].unique()"
   ]
  },
  {
   "cell_type": "markdown",
   "metadata": {},
   "source": [
    "### Handling service"
   ]
  },
  {
   "cell_type": "code",
   "execution_count": 34,
   "metadata": {},
   "outputs": [],
   "source": [
    "map_dict = {\"b'00'\": 'Unknown', \"b'02'\": 'Pediactrics', \"b'10'\": 'Medicine', \"b'22'\": 'Cardiology', \n",
    "            \"b'38'\": 'Psychiatry', \"b'40'\": 'Surgery', \"b'48'\": 'Ophthalmology', \"b'50'\": 'ENT', \n",
    "            \"b'54'\": 'Oral Surgery', \"b'58'\": 'Orthopedics', \"b'62'\": 'Urology', \"b'70'\": 'Gynecology', \n",
    "            \"b'75'\": 'Abortion', \"b'76'\": 'OB – Not Delivered', \"b'77'\": 'OB – Delivered', \n",
    "            \"b'80'\": 'Newborn', \"b'98'\": 'Rehabilitation'}"
   ]
  },
  {
   "cell_type": "code",
   "execution_count": 35,
   "metadata": {},
   "outputs": [],
   "source": [
    "df['service'] = df['service'].map(map_dict, na_action='ignore').fillna('Unknown').astype('category')"
   ]
  },
  {
   "cell_type": "code",
   "execution_count": 36,
   "metadata": {},
   "outputs": [
    {
     "data": {
      "text/plain": [
       "[Psychiatry, Rehabilitation, Medicine, Surgery, Orthopedics, ..., Ophthalmology, Oral Surgery, ENT, Abortion, Unknown]\n",
       "Length: 17\n",
       "Categories (17, object): [Psychiatry, Rehabilitation, Medicine, Surgery, ..., Oral Surgery, ENT, Abortion, Unknown]"
      ]
     },
     "execution_count": 36,
     "metadata": {},
     "output_type": "execute_result"
    }
   ],
   "source": [
    "df['service'].unique()"
   ]
  },
  {
   "cell_type": "markdown",
   "metadata": {},
   "source": [
    "### Saving"
   ]
  },
  {
   "cell_type": "code",
   "execution_count": 37,
   "metadata": {},
   "outputs": [],
   "source": [
    "df.to_csv('..\\df_clean2.csv', index=False)"
   ]
  }
 ],
 "metadata": {
  "kernelspec": {
   "display_name": "Python 3",
   "language": "python",
   "name": "python3"
  },
  "language_info": {
   "codemirror_mode": {
    "name": "ipython",
    "version": 3
   },
   "file_extension": ".py",
   "mimetype": "text/x-python",
   "name": "python",
   "nbconvert_exporter": "python",
   "pygments_lexer": "ipython3",
   "version": "3.7.6"
  }
 },
 "nbformat": 4,
 "nbformat_minor": 4
}
