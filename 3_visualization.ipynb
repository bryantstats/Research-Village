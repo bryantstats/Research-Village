{
 "cells": [
  {
   "cell_type": "code",
   "execution_count": 35,
   "metadata": {},
   "outputs": [],
   "source": [
    "import pandas as pd\n",
    "import numpy as np\n",
    "from sklearn import tree\n",
    "from sklearn.tree import DecisionTreeClassifier\n",
    "from sklearn import metrics\n",
    "import warnings; warnings.simplefilter('ignore')\n",
    "from sklearn.model_selection import train_test_split"
   ]
  },
  {
   "cell_type": "code",
   "execution_count": 2,
   "metadata": {},
   "outputs": [
    {
     "name": "stderr",
     "output_type": "stream",
     "text": [
      "D:\\Anaconda3\\lib\\site-packages\\IPython\\core\\interactiveshell.py:3063: DtypeWarning: Columns (7) have mixed types.Specify dtype option on import or set low_memory=False.\n",
      "  interactivity=interactivity, compiler=compiler, result=result)\n"
     ]
    }
   ],
   "source": [
    "df = pd.read_csv('../df_clean2.csv')"
   ]
  },
  {
   "cell_type": "code",
   "execution_count": 13,
   "metadata": {},
   "outputs": [
    {
     "data": {
      "text/plain": [
       "Index(['yod', 'age', 'sex', 'b_wt', 'ethnic', 'pt_state', 'raceethn', 'campus',\n",
       "       'admtype', 'payer', 'yoa', 'pay_ub92', 'provider', 'asource', 'moa',\n",
       "       'service', 'diag_adm', 'los', 'Stay'],\n",
       "      dtype='object')"
      ]
     },
     "execution_count": 13,
     "metadata": {},
     "output_type": "execute_result"
    }
   ],
   "source": [
    "df.columns"
   ]
  },
  {
   "cell_type": "code",
   "execution_count": 44,
   "metadata": {},
   "outputs": [
    {
     "name": "stdout",
     "output_type": "stream",
     "text": [
      "Training accuracy: 0.9666608873716938\n",
      "Test accuracy: 0.955390195214755\n"
     ]
    }
   ],
   "source": [
    "X = df.loc[(df['b_wt'] > 0) & (df['age'] > 0) & (df['Stay'] != 'Neither'), ['b_wt', 'ethnic', 'pt_state', 'admtype', 'age']]\n",
    "X = pd.get_dummies(X)\n",
    "\n",
    "y = df[(df['b_wt'] > 0) & (df['age'] > 0) & (df['Stay'] != 'Neither')]['Stay']\n",
    "\n",
    "X_train, X_test, y_train, y_test = train_test_split(X, y, test_size=0.2)\n",
    "\n",
    "model = DecisionTreeClassifier()\n",
    "model.fit(X_train, y_train)\n",
    "print(f'Training accuracy: {model.score(X_train, y_train)}')\n",
    "\n",
    "y_pred = model.predict(X_test)\n",
    "print(f'Test accuracy: {metrics.accuracy_score(y_pred, y_test)}')"
   ]
  },
  {
   "cell_type": "code",
   "execution_count": 45,
   "metadata": {},
   "outputs": [
    {
     "name": "stdout",
     "output_type": "stream",
     "text": [
      "Training accuracy: 0.3014481431806926\n",
      "Test accuracy: 0.23905668683694872\n"
     ]
    }
   ],
   "source": [
    "#Same thing as above but with los instead of Stay\n",
    "X = df.loc[(df['b_wt'] > 0) & (df['age'] >= 0) & (df['Stay'] != 'Neither'), ['b_wt', 'ethnic', 'pt_state', 'admtype', 'age']]\n",
    "X = pd.get_dummies(X)\n",
    "\n",
    "y = df[(df['b_wt'] > 0) & (df['age'] >= 0) & (df['Stay'] != 'Neither')]['los']\n",
    "\n",
    "X_train, X_test, y_train, y_test = train_test_split(X, y, test_size=0.2)\n",
    "\n",
    "model = DecisionTreeClassifier()\n",
    "model.fit(X_train, y_train)\n",
    "print(f'Training accuracy: {model.score(X_train, y_train)}')\n",
    "\n",
    "y_pred = model.predict(X_test)\n",
    "print(f'Test accuracy: {metrics.accuracy_score(y_pred, y_test)}')"
   ]
  },
  {
   "cell_type": "code",
   "execution_count": 41,
   "metadata": {},
   "outputs": [
    {
     "data": {
      "text/plain": [
       "221235"
      ]
     },
     "execution_count": 41,
     "metadata": {},
     "output_type": "execute_result"
    }
   ],
   "source": [
    "df[df['age'] == 0]['age'].count()"
   ]
  },
  {
   "cell_type": "code",
   "execution_count": null,
   "metadata": {},
   "outputs": [],
   "source": []
  }
 ],
 "metadata": {
  "kernelspec": {
   "display_name": "Python 3",
   "language": "python",
   "name": "python3"
  },
  "language_info": {
   "codemirror_mode": {
    "name": "ipython",
    "version": 3
   },
   "file_extension": ".py",
   "mimetype": "text/x-python",
   "name": "python",
   "nbconvert_exporter": "python",
   "pygments_lexer": "ipython3",
   "version": "3.7.6"
  }
 },
 "nbformat": 4,
 "nbformat_minor": 4
}
