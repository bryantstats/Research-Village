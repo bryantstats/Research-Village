{
 "cells": [
  {
   "cell_type": "code",
   "execution_count": 1,
   "metadata": {},
   "outputs": [],
   "source": [
    "def pds(x_train, y_train, x_test, y_test, model):\n",
    "    import pandas as pd\n",
    "    from sklearn import metrics\n",
    "    \n",
    "    \n",
    "    if (model=='Decision Tree'):\n",
    "        from sklearn.tree import DecisionTreeClassifier\n",
    "        m = DecisionTreeClassifier(max_depth=3)\n",
    "        \n",
    "    elif (model=='Logistic Regression'):\n",
    "        from sklearn.linear_model import LogisticRegression\n",
    "        m = LogisticRegression()\n",
    "    \n",
    "    elif (model=='Random Forest'):\n",
    "        from sklearn.ensemble import RandomForestClassifier\n",
    "        m = RandomForestClassifier()\n",
    "    \n",
    "    elif (model=='Gradient Boosting'):\n",
    "        from sklearn.ensemble import GradientBoostingClassifier\n",
    "        m = GradientBoostingClassifier()\n",
    "        \n",
    "    elif (model=='Easy Ensemble'):\n",
    "        from imblearn.ensemble import EasyEnsembleClassifier \n",
    "        m = EasyEnsembleClassifier()\n",
    "        \n",
    "    elif (model=='Balance Bagging'):\n",
    "        from imblearn.ensemble import BalancedBaggingClassifier \n",
    "        m = BalancedBaggingClassifier()\n",
    "    \n",
    "    elif (model=='Balance Forest'):\n",
    "        from imblearn.ensemble import BalancedRandomForestClassifier\n",
    "        m = BalancedRandomForestClassifier()\n",
    "\n",
    "    elif (model=='RUS Boost'):\n",
    "        from imblearn.ensemble import RUSBoostClassifier\n",
    "        m = RUSBoostClassifier()\n",
    "        \n",
    "    m.fit(x_train, y_train)\n",
    "    y_pred = m.predict(x_test)\n",
    "    [tn, fp, fn, tp] = metrics.confusion_matrix(y_test, y_pred).ravel()\n",
    "    \n",
    "#     d = pd.DataFrame({'Model':['Decision Tree','Decision Tree','Decision Tree','Decision Tree'],\n",
    "#                     'Metrics':['Sensitivity','Specificity','Balanced Accuracy','Accuracy'],\n",
    "#                      'Values':[tp/(tp+fn), tn/(tn+fp), .5*(tp/(tp+fn) + tn/(tn+fp)), (tp+tn)/(tp+tn+fp+fn)]})\n",
    "    \n",
    "    d = pd.DataFrame({'Model':model,\n",
    "                    'Sensitivity':[tp/(tp+fn)],\n",
    "                     'Specificity':[tn/(tn+fp)],\n",
    "                     'Balanced Accuracy':[.5*(tp/(tp+fn) + tn/(tn+fp))],\n",
    "                      'Accuracy':[(tp+tn)/(tp+tn+fp+fn)]})  \n",
    "    \n",
    "    return d\n",
    "\n",
    "def res(X, y, method):\n",
    "    if (method=='None'):\n",
    "        \n",
    "        X_res = X\n",
    "        y_res = y\n",
    "    elif (method =='RUS'):\n",
    "        \n",
    "        from imblearn.under_sampling import RandomUnderSampler\n",
    "        rus = RandomUnderSampler()\n",
    "        X_res, y_res = rus.fit_resample(X, y)\n",
    "        \n",
    "    elif(method=='ROS'):\n",
    "        \n",
    "        from imblearn.over_sampling import RandomOverSampler \n",
    "        ros = RandomOverSampler()\n",
    "        X_res, y_res = ros.fit_resample(X, y)\n",
    "        \n",
    "    elif(method=='SMOTE'):\n",
    "        \n",
    "        from imblearn.over_sampling import SMOTE \n",
    "        sm = SMOTE()\n",
    "        X_res, y_res = sm.fit_resample(X, y)\n",
    "    \n",
    "    return X_res, y_res\n",
    "\n",
    "def baseline(x_train, y_train, x_test, y_test, model_list, resampling_list):\n",
    "    import pandas as pd\n",
    "    import time\n",
    "    d = pd.DataFrame({})\n",
    "    \n",
    "    k = set(['Easy Ensemble', 'Balance Bagging','Balance Forest', 'RUS Boost'])\n",
    "    m1 = list(set(model_list).intersection(set(k)))\n",
    "    \n",
    "    \n",
    "    for i in model_list:\n",
    "        if not(i in m1):\n",
    "            for j in resampling_list:\n",
    "                    \n",
    "                    start_time = time.time()\n",
    "                    \n",
    "                    \n",
    "                    x_res, y_res = res(x_train, y_train, j)\n",
    "                    a = pds(x_res, y_res , x_test, y_test, i)\n",
    "                    \n",
    "                    run_time = time.time() - start_time\n",
    "                    \n",
    "                    a.insert(1,\"Resampling\",[j])\n",
    "                    a.insert(2,\"Run Time\",[run_time])\n",
    "                    d = pd.concat([d,a],ignore_index=True)\n",
    "            \n",
    "        else:\n",
    "            start_time = time.time()\n",
    "            a = pds(x_train, y_train , x_test, y_test, i)\n",
    "            run_time = time.time() - start_time\n",
    "            a.insert(1,\"Resampling\",['Ensemble'])\n",
    "            a.insert(2,\"Run Time\",[run_time])\n",
    "            d = pd.concat([d,a],ignore_index=True)               \n",
    "\n",
    "    return d\n",
    "\n",
    "def baseline2(x_train, y_train, x_test, y_test, model_list, resampling_list, n_simu=20):\n",
    "    d = pd.DataFrame({})\n",
    "    for i in range(0,n_simu):\n",
    "        print('Simulation: ',i)\n",
    "        a = baseline(x_train, y_train, x_test, y_test, model_list, resampling_list)\n",
    "        d = pd.concat([d,a],ignore_index=True)    \n",
    "        \n",
    "    return d"
   ]
  },
  {
   "cell_type": "code",
   "execution_count": 2,
   "metadata": {},
   "outputs": [
    {
     "name": "stderr",
     "output_type": "stream",
     "text": [
      "C:\\Users\\sonou\\anaconda3\\lib\\site-packages\\IPython\\core\\interactiveshell.py:3063: DtypeWarning: Columns (7) have mixed types.Specify dtype option on import or set low_memory=False.\n",
      "  interactivity=interactivity, compiler=compiler, result=result)\n"
     ]
    }
   ],
   "source": [
    "import pandas as pd\n",
    "\n",
    "df = pd.read_csv('df_clean.csv')\n",
    "\n",
    "df = df.dropna()\n"
   ]
  },
  {
   "cell_type": "code",
   "execution_count": 3,
   "metadata": {},
   "outputs": [
    {
     "data": {
      "text/plain": [
       "Index(['yod', 'age', 'sex', 'b_wt', 'ethnic', 'pt_state', 'raceethn', 'campus',\n",
       "       'admtype', 'payer', 'yoa', 'pay_ub92', 'provider', 'asource', 'moa',\n",
       "       'service', 'diag_adm', 'los', 'los_binary'],\n",
       "      dtype='object')"
      ]
     },
     "execution_count": 3,
     "metadata": {},
     "output_type": "execute_result"
    }
   ],
   "source": [
    "df.columns"
   ]
  },
  {
   "cell_type": "code",
   "execution_count": 4,
   "metadata": {},
   "outputs": [],
   "source": [
    "df = df.drop(['yod','yoa','b_wt'], axis=1)"
   ]
  },
  {
   "cell_type": "code",
   "execution_count": 5,
   "metadata": {},
   "outputs": [],
   "source": [
    "X = df.drop(['los','los_binary'], axis=1)\n",
    "X = pd.get_dummies(X)\n",
    "y = df['los_binary']"
   ]
  },
  {
   "cell_type": "code",
   "execution_count": 6,
   "metadata": {},
   "outputs": [
    {
     "data": {
      "text/plain": [
       "(849982, 1827)"
      ]
     },
     "execution_count": 6,
     "metadata": {},
     "output_type": "execute_result"
    }
   ],
   "source": [
    "X.shape"
   ]
  },
  {
   "cell_type": "code",
   "execution_count": 7,
   "metadata": {},
   "outputs": [],
   "source": [
    "from sklearn.model_selection import train_test_split\n",
    "\n",
    "x_train,x_test,y_train,y_test=train_test_split(X,y,test_size=0.5)"
   ]
  },
  {
   "cell_type": "code",
   "execution_count": null,
   "metadata": {},
   "outputs": [],
   "source": [
    "model_list = ['Random Forest', 'Gradient Boosting',\n",
    "          'Easy Ensemble', 'Balance Bagging','Balance Forest', 'RUS Boost']\n",
    "\n",
    "# model_list = ['Decision Tree']\n",
    "\n",
    "resampling_list = ['None','RUS']\n",
    "\n",
    "\n",
    "# model_list = ['Decision Tree',\n",
    "#              'Easy Ensemble', 'Balance Bagging','Balance Forest', 'RUS Boost']\n",
    "\n",
    "# resampling_list = ['RUS']\n",
    "\n",
    "\n",
    "import warnings; warnings.simplefilter('ignore')\n",
    "bs_lmc = baseline(x_train, y_train, x_test, y_test, model_list, resampling_list)"
   ]
  },
  {
   "cell_type": "code",
   "execution_count": null,
   "metadata": {},
   "outputs": [],
   "source": [
    "bs_lmc"
   ]
  },
  {
   "cell_type": "code",
   "execution_count": null,
   "metadata": {},
   "outputs": [],
   "source": [
    "bs_lmc"
   ]
  },
  {
   "cell_type": "code",
   "execution_count": null,
   "metadata": {},
   "outputs": [],
   "source": [
    "bs_lmc2 = baseline2(x_train, y_train, x_test, y_test, model_list, resampling_list)"
   ]
  },
  {
   "cell_type": "code",
   "execution_count": null,
   "metadata": {},
   "outputs": [],
   "source": [
    "model_list = ['Decision Tree', 'Logistic Regression', 'Random Forest', 'Gradient Boosting',\n",
    "             'Easy Ensemble', 'Balance Bagging','Balance Forest', 'RUS Boost']\n",
    "\n",
    "resampling_list = ['None','RUS','ROS','SMOTE']\n",
    "\n",
    "\n",
    "# model_list = ['Decision Tree',\n",
    "#              'Easy Ensemble', 'Balance Bagging','Balance Forest', 'RUS Boost']\n",
    "\n",
    "# resampling_list = ['RUS']\n",
    "\n",
    "\n",
    "import warnings; warnings.simplefilter('ignore')\n",
    "bs2 = baseline(x_train, y_train, x_test, y_test, model_list, resampling_list)\n",
    "bs2"
   ]
  }
 ],
 "metadata": {
  "kernelspec": {
   "display_name": "Python 3",
   "language": "python",
   "name": "python3"
  },
  "language_info": {
   "codemirror_mode": {
    "name": "ipython",
    "version": 3
   },
   "file_extension": ".py",
   "mimetype": "text/x-python",
   "name": "python",
   "nbconvert_exporter": "python",
   "pygments_lexer": "ipython3",
   "version": "3.7.6"
  }
 },
 "nbformat": 4,
 "nbformat_minor": 4
}
