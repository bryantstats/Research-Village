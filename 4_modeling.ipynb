{
 "cells": [
  {
   "cell_type": "markdown",
   "metadata": {},
   "source": [
<<<<<<< HEAD:4_modeling.ipynb
    "# Modeling"
   ]
=======
    "# Predicting LOS in R.I Hospital\n",
    "\n",
    "We study performances of different predictive models in predicting a long length of stay in R.I Hospital.  Long length of stay is defined as staying more than 7 days in the hospital. "
   ]
  },
  {
   "cell_type": "markdown",
   "metadata": {},
   "source": [
    "## 1. Import and Clean Data"
   ]
  },
  {
   "cell_type": "code",
   "execution_count": null,
   "metadata": {},
   "outputs": [],
   "source": [
    "import pandas as pd\n",
    "\n",
    "df = pd.read_sas('/Users/repair/Downloads/Compressed/Hospital Discharge Data/hdd0318cy.sas7bdat')"
   ]
  },
  {
   "cell_type": "code",
   "execution_count": null,
   "metadata": {},
   "outputs": [],
   "source": []
>>>>>>> parent of 6841240... a:.ipynb_checkpoints/code-checkpoint.ipynb
  },
  {
   "cell_type": "code",
   "execution_count": null,
   "metadata": {},
   "outputs": [],
<<<<<<< HEAD:4_modeling.ipynb
   "source": [
    "import panas as pd\n",
    "\n",
    "df = read.csv('df_clean.csv')\n",
    "\n",
    "X = df.drop(['los'], axis=1)\n",
    "Y = df.los\n",
    "\n",
    "from sklearn.model_selection import train_test_split\n",
    "\n",
    "x_train,x_test,y_train,y_test=train_test_split(X,Y,test_size=0.3,random_state=9)"
   ]
=======
   "source": []
>>>>>>> parent of 6841240... a:.ipynb_checkpoints/code-checkpoint.ipynb
  }
 ],
 "metadata": {
  "kernelspec": {
   "display_name": "Python 3",
   "language": "python",
   "name": "python3"
  },
  "language_info": {
   "codemirror_mode": {
    "name": "ipython",
    "version": 3
   },
   "file_extension": ".py",
   "mimetype": "text/x-python",
   "name": "python",
   "nbconvert_exporter": "python",
   "pygments_lexer": "ipython3",
   "version": "3.7.6"
  }
 },
 "nbformat": 4,
 "nbformat_minor": 4
}
